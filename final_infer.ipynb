{
 "cells": [
  {
   "cell_type": "code",
   "execution_count": 1,
   "metadata": {
    "colab": {
     "base_uri": "https://localhost:8080/"
    },
    "executionInfo": {
     "elapsed": 4,
     "status": "ok",
     "timestamp": 1729520346450,
     "user": {
      "displayName": "이유진",
      "userId": "10989976370749247256"
     },
     "user_tz": -540
    },
    "id": "5ndN1lpfyIvR",
    "outputId": "6773b520-3e37-421e-cef3-11d720fafe40"
   },
   "outputs": [
    {
     "name": "stdout",
     "output_type": "stream",
     "text": [
      "/home/jovyan/59min/final\n"
     ]
    }
   ],
   "source": [
    "import os\n",
    "print(os.getcwd())"
   ]
  },
  {
   "cell_type": "code",
   "execution_count": 2,
   "metadata": {},
   "outputs": [],
   "source": [
    "#!pip install torch==2.5.0+cu121 torchaudio==2.5.0+cu121 torchvision==0.20.0+cu121 -f https://download.pytorch.org/whl/torch_stable.html\n",
    "#!pip install transformers\n",
    "#!pip install openpyxl\n",
    "#!pip install rank-bm25"
   ]
  },
  {
   "cell_type": "code",
   "execution_count": 3,
   "metadata": {},
   "outputs": [],
   "source": [
    "from transformers import BertTokenizer\n",
    "import random\n",
    "import pandas as pd\n",
    "import torch\n",
    "import torch.nn as nn\n",
    "from torch.utils.data import Dataset, DataLoader\n",
    "import openpyxl\n",
    "import ast\n",
    "import torch.optim as optim"
   ]
  },
  {
   "cell_type": "markdown",
   "metadata": {},
   "source": [
    "# 데이터 준비"
   ]
  },
  {
   "cell_type": "markdown",
   "metadata": {},
   "source": [
    "## Dataset 1: 키워드화 된 데이터셋 가져오기"
   ]
  },
  {
   "cell_type": "code",
   "execution_count": 4,
   "metadata": {
    "colab": {
     "base_uri": "https://localhost:8080/"
    },
    "executionInfo": {
     "elapsed": 4,
     "status": "ok",
     "timestamp": 1729520349207,
     "user": {
      "displayName": "이유진",
      "userId": "10989976370749247256"
     },
     "user_tz": -540
    },
    "id": "yJifxqi7sPkx",
    "outputId": "3706d334-1e46-46b2-e420-22918cb9aefe"
   },
   "outputs": [],
   "source": [
    "# 엑셀 파일 불러오기\n",
    "file_path_full = '/home/jovyan/59min/Bert4Rec/Performance_evaluation_dataset/Korea_full_sentence.xlsx'  # 파일 경로\n",
    "\n",
    "df_full = pd.read_excel(file_path_full)"
   ]
  },
  {
   "cell_type": "code",
   "execution_count": 5,
   "metadata": {},
   "outputs": [],
   "source": [
    "df_full = df_full.rename(columns={'keywords':'label'})"
   ]
  },
  {
   "cell_type": "code",
   "execution_count": 6,
   "metadata": {
    "colab": {
     "base_uri": "https://localhost:8080/"
    },
    "executionInfo": {
     "elapsed": 3,
     "status": "ok",
     "timestamp": 1729520349207,
     "user": {
      "displayName": "이유진",
      "userId": "10989976370749247256"
     },
     "user_tz": -540
    },
    "id": "1RDKgDf7tWT9",
    "outputId": "8592bbea-600a-4cff-dc9f-8ec1897ed12a"
   },
   "outputs": [],
   "source": [
    "# 엑셀 파일 불러오기\n",
    "file_path_user_sequence= '/home/jovyan/59min/model/user_sequence_ko.xlsx'  # 파일 경로\n",
    "df_seq = pd.read_excel(file_path_user_sequence)\n",
    "\n",
    "df_seq = df_seq.drop(columns=['Unnamed: 0'])"
   ]
  },
  {
   "cell_type": "code",
   "execution_count": 7,
   "metadata": {},
   "outputs": [
    {
     "data": {
      "text/html": [
       "<div>\n",
       "<style scoped>\n",
       "    .dataframe tbody tr th:only-of-type {\n",
       "        vertical-align: middle;\n",
       "    }\n",
       "\n",
       "    .dataframe tbody tr th {\n",
       "        vertical-align: top;\n",
       "    }\n",
       "\n",
       "    .dataframe thead th {\n",
       "        text-align: right;\n",
       "    }\n",
       "</style>\n",
       "<table border=\"1\" class=\"dataframe\">\n",
       "  <thead>\n",
       "    <tr style=\"text-align: right;\">\n",
       "      <th></th>\n",
       "      <th>선택 이유</th>\n",
       "      <th>베뉴 이름</th>\n",
       "    </tr>\n",
       "  </thead>\n",
       "  <tbody>\n",
       "    <tr>\n",
       "      <th>0</th>\n",
       "      <td>홀 내부- 단독홀로 타 하객들과 섞이지 않고 비교적 넉넉한 시간동안 이용할 수 있다...</td>\n",
       "      <td>빌라드지디 수서</td>\n",
       "    </tr>\n",
       "    <tr>\n",
       "      <th>1</th>\n",
       "      <td>저희 커플이 홀 선택 시 고려했던 점은 예쁜 홀 + 맛있는 식사였습니다.(1) 홀 ...</td>\n",
       "      <td>더링크호텔 가든홀</td>\n",
       "    </tr>\n",
       "    <tr>\n",
       "      <th>2</th>\n",
       "      <td>인천에서 가장 많이 한다는 네임밸류, 검증된 식사 퀄리티 결정적으로 신부가 홀에 마...</td>\n",
       "      <td>메리빌리아 셀레스메리홀</td>\n",
       "    </tr>\n",
       "    <tr>\n",
       "      <th>3</th>\n",
       "      <td>밝은홀의 장점과 어두운 홀의 장점 모두 아우르고 있는것 같아서 선택! ( 자세한 사...</td>\n",
       "      <td>노블발렌티 삼성점</td>\n",
       "    </tr>\n",
       "    <tr>\n",
       "      <th>4</th>\n",
       "      <td>저희가 보증인원 100-150명이 가능한 홀을 찾다보니 옵션이 많이 않았습니다.소규...</td>\n",
       "      <td>국방 컨벤션</td>\n",
       "    </tr>\n",
       "    <tr>\n",
       "      <th>...</th>\n",
       "      <td>...</td>\n",
       "      <td>...</td>\n",
       "    </tr>\n",
       "    <tr>\n",
       "      <th>292</th>\n",
       "      <td>사랑스러운 분위기의 홀이 제일 먼저 눈에 들어왔어요- 하객의자가 예쁘고 숲속느낌이 ...</td>\n",
       "      <td>수원 파티움 하우스</td>\n",
       "    </tr>\n",
       "    <tr>\n",
       "      <th>293</th>\n",
       "      <td>몇 번 하객으로 왔던 경험 상 무난하다고 생각했고, 식장과 음식 퀄리티는 보장된다고...</td>\n",
       "      <td>신도림 라마다 5층 세인트그레이스홀</td>\n",
       "    </tr>\n",
       "    <tr>\n",
       "      <th>294</th>\n",
       "      <td>저희는 우선 하객들에게 식사를 대접하는 예식을 가장 우선으로 꼽아서 플래너님에게도 ...</td>\n",
       "      <td>웨딩여율리</td>\n",
       "    </tr>\n",
       "    <tr>\n",
       "      <th>295</th>\n",
       "      <td>강남에 위치한 채플형 웨딩홀을 원했기 때문에 아펠가모 2곳 (선릉, 반포) + 더채...</td>\n",
       "      <td>더채플앳논현 라메르홀</td>\n",
       "    </tr>\n",
       "    <tr>\n",
       "      <th>296</th>\n",
       "      <td>식사와 교통</td>\n",
       "      <td>양재AT포레</td>\n",
       "    </tr>\n",
       "  </tbody>\n",
       "</table>\n",
       "<p>297 rows × 2 columns</p>\n",
       "</div>"
      ],
      "text/plain": [
       "                                                 선택 이유                베뉴 이름\n",
       "0    홀 내부- 단독홀로 타 하객들과 섞이지 않고 비교적 넉넉한 시간동안 이용할 수 있다...             빌라드지디 수서\n",
       "1    저희 커플이 홀 선택 시 고려했던 점은 예쁜 홀 + 맛있는 식사였습니다.(1) 홀 ...            더링크호텔 가든홀\n",
       "2    인천에서 가장 많이 한다는 네임밸류, 검증된 식사 퀄리티 결정적으로 신부가 홀에 마...         메리빌리아 셀레스메리홀\n",
       "3    밝은홀의 장점과 어두운 홀의 장점 모두 아우르고 있는것 같아서 선택! ( 자세한 사...            노블발렌티 삼성점\n",
       "4    저희가 보증인원 100-150명이 가능한 홀을 찾다보니 옵션이 많이 않았습니다.소규...               국방 컨벤션\n",
       "..                                                 ...                  ...\n",
       "292  사랑스러운 분위기의 홀이 제일 먼저 눈에 들어왔어요- 하객의자가 예쁘고 숲속느낌이 ...           수원 파티움 하우스\n",
       "293  몇 번 하객으로 왔던 경험 상 무난하다고 생각했고, 식장과 음식 퀄리티는 보장된다고...  신도림 라마다 5층 세인트그레이스홀\n",
       "294  저희는 우선 하객들에게 식사를 대접하는 예식을 가장 우선으로 꼽아서 플래너님에게도 ...                웨딩여율리\n",
       "295  강남에 위치한 채플형 웨딩홀을 원했기 때문에 아펠가모 2곳 (선릉, 반포) + 더채...          더채플앳논현 라메르홀\n",
       "296                                             식사와 교통               양재AT포레\n",
       "\n",
       "[297 rows x 2 columns]"
      ]
     },
     "execution_count": 7,
     "metadata": {},
     "output_type": "execute_result"
    }
   ],
   "source": [
    "df_full"
   ]
  },
  {
   "cell_type": "code",
   "execution_count": 8,
   "metadata": {},
   "outputs": [
    {
     "data": {
      "text/html": [
       "<div>\n",
       "<style scoped>\n",
       "    .dataframe tbody tr th:only-of-type {\n",
       "        vertical-align: middle;\n",
       "    }\n",
       "\n",
       "    .dataframe tbody tr th {\n",
       "        vertical-align: top;\n",
       "    }\n",
       "\n",
       "    .dataframe thead th {\n",
       "        text-align: right;\n",
       "    }\n",
       "</style>\n",
       "<table border=\"1\" class=\"dataframe\">\n",
       "  <thead>\n",
       "    <tr style=\"text-align: right;\">\n",
       "      <th></th>\n",
       "      <th>user_id</th>\n",
       "      <th>list</th>\n",
       "      <th>keyword</th>\n",
       "    </tr>\n",
       "  </thead>\n",
       "  <tbody>\n",
       "    <tr>\n",
       "      <th>0</th>\n",
       "      <td>0</td>\n",
       "      <td>['국방 컨벤션', '빌라드지디 수서', '라비두스', '시그니엘', '신도림 더 ...</td>\n",
       "      <td>예쁜 홀</td>\n",
       "    </tr>\n",
       "    <tr>\n",
       "      <th>1</th>\n",
       "      <td>1</td>\n",
       "      <td>['더링크호텔', '더컨벤션 신사']</td>\n",
       "      <td>예쁜 홀</td>\n",
       "    </tr>\n",
       "    <tr>\n",
       "      <th>2</th>\n",
       "      <td>2</td>\n",
       "      <td>['더링크호텔 가든홀', '더마레보호텔&amp;웨딩', '아펠가모 선릉']</td>\n",
       "      <td>예쁜 홀</td>\n",
       "    </tr>\n",
       "    <tr>\n",
       "      <th>3</th>\n",
       "      <td>3</td>\n",
       "      <td>['노블발렌티 삼성', '양재 엘블레스', '잠실 아펠가모 웨딩홀', '구로 지타워...</td>\n",
       "      <td>예쁜 홀</td>\n",
       "    </tr>\n",
       "    <tr>\n",
       "      <th>4</th>\n",
       "      <td>4</td>\n",
       "      <td>['신도림 테크노마트 웨딩시티', '서울대 이라운지', '♥ 노블발렌티 삼성점']</td>\n",
       "      <td>예쁜 홀</td>\n",
       "    </tr>\n",
       "    <tr>\n",
       "      <th>...</th>\n",
       "      <td>...</td>\n",
       "      <td>...</td>\n",
       "      <td>...</td>\n",
       "    </tr>\n",
       "    <tr>\n",
       "      <th>645</th>\n",
       "      <td>645</td>\n",
       "      <td>['노블발렌티 삼성역점', '노블발렌티 삼성']</td>\n",
       "      <td>신부 대기</td>\n",
       "    </tr>\n",
       "    <tr>\n",
       "      <th>646</th>\n",
       "      <td>646</td>\n",
       "      <td>['국방 컨벤션', '루벨 강동']</td>\n",
       "      <td>신부 대기</td>\n",
       "    </tr>\n",
       "    <tr>\n",
       "      <th>647</th>\n",
       "      <td>647</td>\n",
       "      <td>['크레스트72 글라스홀', '양재 엘타워 그랜드홀']</td>\n",
       "      <td>신부 대기</td>\n",
       "    </tr>\n",
       "    <tr>\n",
       "      <th>648</th>\n",
       "      <td>648</td>\n",
       "      <td>['양재 엘타워 그랜드홀', '노블발렌티 삼성', '더파티움 안양(구 아르떼)', ...</td>\n",
       "      <td>신부 대기</td>\n",
       "    </tr>\n",
       "    <tr>\n",
       "      <th>649</th>\n",
       "      <td>649</td>\n",
       "      <td>['루벨 강동', '양재 엘타워 그랜드홀', '비렌티 웨딩홀', '신도림 테크노마트...</td>\n",
       "      <td>신부 대기</td>\n",
       "    </tr>\n",
       "  </tbody>\n",
       "</table>\n",
       "<p>650 rows × 3 columns</p>\n",
       "</div>"
      ],
      "text/plain": [
       "     user_id                                               list keyword\n",
       "0          0  ['국방 컨벤션', '빌라드지디 수서', '라비두스', '시그니엘', '신도림 더 ...    예쁜 홀\n",
       "1          1                               ['더링크호텔', '더컨벤션 신사']    예쁜 홀\n",
       "2          2              ['더링크호텔 가든홀', '더마레보호텔&웨딩', '아펠가모 선릉']    예쁜 홀\n",
       "3          3  ['노블발렌티 삼성', '양재 엘블레스', '잠실 아펠가모 웨딩홀', '구로 지타워...    예쁜 홀\n",
       "4          4      ['신도림 테크노마트 웨딩시티', '서울대 이라운지', '♥ 노블발렌티 삼성점']    예쁜 홀\n",
       "..       ...                                                ...     ...\n",
       "645      645                         ['노블발렌티 삼성역점', '노블발렌티 삼성']   신부 대기\n",
       "646      646                                ['국방 컨벤션', '루벨 강동']   신부 대기\n",
       "647      647                     ['크레스트72 글라스홀', '양재 엘타워 그랜드홀']   신부 대기\n",
       "648      648  ['양재 엘타워 그랜드홀', '노블발렌티 삼성', '더파티움 안양(구 아르떼)', ...   신부 대기\n",
       "649      649  ['루벨 강동', '양재 엘타워 그랜드홀', '비렌티 웨딩홀', '신도림 테크노마트...   신부 대기\n",
       "\n",
       "[650 rows x 3 columns]"
      ]
     },
     "execution_count": 8,
     "metadata": {},
     "output_type": "execute_result"
    }
   ],
   "source": [
    "df_seq"
   ]
  },
  {
   "cell_type": "code",
   "execution_count": 9,
   "metadata": {
    "colab": {
     "base_uri": "https://localhost:8080/"
    },
    "executionInfo": {
     "elapsed": 785,
     "status": "ok",
     "timestamp": 1729520349990,
     "user": {
      "displayName": "이유진",
      "userId": "10989976370749247256"
     },
     "user_tz": -540
    },
    "id": "CBXwSVnVt_8j",
    "outputId": "b3ac2c19-8e63-4427-fffa-2532567fb2a7"
   },
   "outputs": [],
   "source": [
    "class BERT4RecDataset(Dataset):\n",
    "    def __init__(self, data, max_seq_len=10, mask_prob=0.15):\n",
    "        self.user_sequences = data['list'].apply(ast.literal_eval)  # 시퀀스를 리스트 형태로 변환\n",
    "        self.mask_prob = mask_prob\n",
    "        self.max_seq_len = max_seq_len\n",
    "        self.venue_names = list(set([venue for seq in self.user_sequences for venue in seq]))  # 모든 venue 리스트화\n",
    "        self.vocab_size = len(self.venue_names)\n",
    "        self.data = self.prepare_data()\n",
    "\n",
    "    def prepare_data(self):\n",
    "        data = []\n",
    "        for seq in self.user_sequences:\n",
    "            indexed_seq = []\n",
    "            for item in seq:\n",
    "                if item in self.venue_names:\n",
    "                    indexed_seq.append(self.venue_names.index(item))\n",
    "                else:\n",
    "                    print(f\"Warning: {item} is not in venue_names, replacing with [UNK]\")\n",
    "                    indexed_seq.append(self.vocab_size - 1)  # [UNK] 토큰으로 대체\n",
    "\n",
    "            # 패딩 또는 잘라내기\n",
    "            if len(indexed_seq) < self.max_seq_len:\n",
    "                indexed_seq = [0] * (self.max_seq_len - len(indexed_seq)) + indexed_seq  # 패딩\n",
    "            else:\n",
    "                indexed_seq = indexed_seq[:self.max_seq_len]\n",
    "            data.append(indexed_seq)\n",
    "        return data\n",
    "\n",
    "    def __len__(self):\n",
    "        return len(self.data)\n",
    "\n",
    "    def __getitem__(self, idx):\n",
    "        seq = self.data[idx]\n",
    "        input_ids = torch.tensor(seq, dtype=torch.long)\n",
    "        labels = torch.tensor(seq, dtype=torch.long)\n",
    "        masked_input = input_ids.clone()\n",
    "        mask = torch.zeros_like(input_ids, dtype=torch.bool)\n",
    "\n",
    "        # 마스킹 로직\n",
    "        for i in range(len(seq)):\n",
    "            if random.random() < self.mask_prob:\n",
    "                mask[i] = True\n",
    "                prob = random.random()\n",
    "                if prob < 0.8:\n",
    "                    masked_input[i] = self.vocab_size - 1  # 마스킹 토큰 추가\n",
    "                elif prob < 0.9:\n",
    "                    masked_input[i] = random.choice(list(range(self.vocab_size)))  # 랜덤하게 다른 토큰 선택\n",
    "\n",
    "        return masked_input, labels, mask\n"
   ]
  },
  {
   "cell_type": "code",
   "execution_count": 10,
   "metadata": {
    "executionInfo": {
     "elapsed": 3,
     "status": "ok",
     "timestamp": 1729520349990,
     "user": {
      "displayName": "이유진",
      "userId": "10989976370749247256"
     },
     "user_tz": -540
    },
    "id": "woAdnL7euILi"
   },
   "outputs": [],
   "source": [
    "# BERT4Rec 모델 정의 (간단화된 BERT 구조)\n",
    "class BERT4RecModel(nn.Module):\n",
    "    def __init__(self, vocab_size, embed_dim=64, num_heads=4, num_layers=2, max_seq_len=10, dropout=0.1):\n",
    "        super(BERT4RecModel, self).__init__()\n",
    "        self.token_embedding = nn.Embedding(vocab_size, embed_dim, padding_idx=0)\n",
    "        self.position_embedding = nn.Embedding(max_seq_len, embed_dim)\n",
    "        encoder_layer = nn.TransformerEncoderLayer(d_model=embed_dim, nhead=num_heads, dropout=dropout)\n",
    "        self.transformer_encoder = nn.TransformerEncoder(encoder_layer, num_layers=num_layers)\n",
    "        self.fc = nn.Linear(embed_dim, vocab_size)\n",
    "\n",
    "    def forward(self, input_ids):\n",
    "        positions = torch.arange(0, input_ids.size(1)).unsqueeze(0).to(input_ids.device)\n",
    "        x = self.token_embedding(input_ids) + self.position_embedding(positions)\n",
    "        x = x.transpose(0, 1)\n",
    "        x = self.transformer_encoder(x)\n",
    "        x = x.transpose(0, 1)\n",
    "        logits = self.fc(x)\n",
    "        return logits"
   ]
  },
  {
   "cell_type": "code",
   "execution_count": 11,
   "metadata": {},
   "outputs": [
    {
     "name": "stderr",
     "output_type": "stream",
     "text": [
      "/home/jovyan/.venv/torch2.3.0-py3.11-cuda12.1/lib/python3.11/site-packages/torch/nn/modules/transformer.py:306: UserWarning: enable_nested_tensor is True, but self.use_nested_tensor is False because encoder_layer.self_attn.batch_first was not True(use batch_first for better inference performance)\n",
      "  warnings.warn(f\"enable_nested_tensor is True, but self.use_nested_tensor is False because {why_not_sparsity_fast_path}\")\n"
     ]
    }
   ],
   "source": [
    "# 데이터셋 로드 및 DataLoader 설정\n",
    "dataset = BERT4RecDataset(df_seq)  # user_sequences_df: 유저 시퀀스가 포함된 데이터프레임\n",
    "dataloader = DataLoader(dataset, batch_size=16, shuffle=True)\n",
    "\n",
    "# 모델 초기화\n",
    "vocab_size = len(dataset.venue_names)\n",
    "model = BERT4RecModel(vocab_size=vocab_size)\n",
    "\n",
    "# 손실 함수 및 옵티마이저 설정\n",
    "criterion = nn.CrossEntropyLoss(ignore_index=0)\n",
    "optimizer = optim.Adam(model.parameters(), lr=1e-3)"
   ]
  },
  {
   "cell_type": "code",
   "execution_count": 12,
   "metadata": {},
   "outputs": [],
   "source": [
    "# 모델 저장 경로 설정\n",
    "model_save_path = 'bert4rec_model_ko.pth'\n"
   ]
  },
  {
   "cell_type": "code",
   "execution_count": 13,
   "metadata": {},
   "outputs": [
    {
     "name": "stdout",
     "output_type": "stream",
     "text": [
      "Model saved to bert4rec_model_ko.pth\n"
     ]
    }
   ],
   "source": [
    "# 모델의 가중치 저장\n",
    "torch.save(model.state_dict(), model_save_path)\n",
    "print(\"Model saved to\", model_save_path)"
   ]
  },
  {
   "cell_type": "markdown",
   "metadata": {},
   "source": [
    "# 추론"
   ]
  },
  {
   "cell_type": "code",
   "execution_count": 14,
   "metadata": {},
   "outputs": [
    {
     "name": "stdout",
     "output_type": "stream",
     "text": [
      "Model loaded from bert4rec_model_ko.pth\n"
     ]
    },
    {
     "name": "stderr",
     "output_type": "stream",
     "text": [
      "/home/jovyan/.venv/torch2.3.0-py3.11-cuda12.1/lib/python3.11/site-packages/torch/nn/modules/transformer.py:306: UserWarning: enable_nested_tensor is True, but self.use_nested_tensor is False because encoder_layer.self_attn.batch_first was not True(use batch_first for better inference performance)\n",
      "  warnings.warn(f\"enable_nested_tensor is True, but self.use_nested_tensor is False because {why_not_sparsity_fast_path}\")\n"
     ]
    }
   ],
   "source": [
    "model = BERT4RecModel(vocab_size=vocab_size)\n",
    "model.load_state_dict(torch.load(model_save_path))\n",
    "\n",
    "print(\"Model loaded from\", model_save_path)"
   ]
  },
  {
   "cell_type": "markdown",
   "metadata": {},
   "source": [
    "### BM25 필터링"
   ]
  },
  {
   "cell_type": "code",
   "execution_count": 15,
   "metadata": {},
   "outputs": [
    {
     "name": "stdout",
     "output_type": "stream",
     "text": [
      " '주차 편리' 키워드로 필터링 된 리뷰들:                                                 선택 이유                 베뉴 이름\n",
      "0   수원에서 예식하기로 생각했고 저희는 아무래도 친척이 각각 파주, 부산에 거주하고 계...             수원 디에스컨벤션\n",
      "1   올해 2월달에 예식장 상담을 받았는데 이제야 후기를 작성해봅니다ㅎㅎㅎ 더컨벤션 잠실...                웨딩 여율리\n",
      "2   이전 후기에도 적었듯 하객으로 왔을 때 아주 맘에 들었던 홀입니다 ㅎㅎ 다른 하객분...              신도림 더세인트\n",
      "3   그랜드볼룸홀이 크고 웅장한 느낌이라 호텔예식을 합리적인 가격으로 원하시는 분들에게 ...       신도림 웨딩시티 그랜드볼룸홀\n",
      "4   더컨벤션 영등포 점은 2순위였는데 여기가 먼저 가격,예약이 오픈되어서 방문했다가 괜...  더컨벤션 영등포 (1F 그랜드볼룸홀)\n",
      "5   엘타워가 식사가 맛있고 주차 와 교통이 편리한 곳으로 이미 유명하더라고요.직접가서 ...             엘타워 그레이스홀\n",
      "6   수원 지역부터 강남 지역까지 한 6개 웨딩홀 투어를 했었는데 마음에 드는 걸 찾지 ...             더마레보호텔&웨딩\n",
      "7   안녕하세요 내년 4워러 결혼을 앞둔 예비 신부입니다. 저희는 각자 본가 위치 때문에...              더리버사이드호텔\n",
      "8   삼성역으로 접근성이 가장 좋다는 점이 끌렸습니다. 저는 소노펠리체컨벤션과 더컨벤션신...              소노펠리체컨벤션\n",
      "9   안녕하세요 저는 9월 말에 결혼을 앞둔 예비신랑이에요. 여자친구와 제가 중요하게 생...                  라비니움\n",
      "10  밥이 맛있고 주차 공간(1,400대 정도) 넉넉할 것!신랑측, 저희 측 합쳐서 하객...    루이비스컨벤션 송파문정 그레이스홀\n",
      "11  밝은홀을 찾고 있었는데, 마침 내년에 공사가 시작를 한다는 말에 어! 여기다 라는 ...       라마다 신도림, 하늘정원 홀\n",
      "12  주차 2,000대 이상 수용 가능한 점, KTX 정차역 (영등포역) 인근 위치해 있...        웨딩시티 신도림 스타티스홀\n",
      "13  웨스턴베니비스(신도림)웨딩홀 는 주차와 식사 위치 홀 분위기를 중점적으로 봤습니다....          신도림 웨스턴 베니비스\n",
      "14  단독홀이라 복잡할것 같지않고 다른곳처럼 공장에서 찍어낸다는 느낌이 적을것같아요.(s...            청주 S가든 웨딩홀\n",
      "15  서울대학교 내 4개의 웨딩홀들 중 홀이 저희 취향에 가장 예뻤습니다.- 단독건물, ...        서울대학교 연구공원 웨딩홀\n",
      "16  웨딩홀을 알아 볼 당시 고려했던 사항들이 충족되어 더 세인트에서 계약을 진행하게 되...             신도림 더 세인트\n",
      "17  제가 제일 중요하게 생각했던 부분이 주차와 밥인데 서울대 내에서 가장 괜찮다고 판단...          서울대 연구공원 웨딩홀\n",
      "18  넓은 주차공간비렌티에 상담 갔을 때 제일 놀랐던 것은 주차공간이었습니다. 건물 앞쪽...               비렌티 웨딩홀\n",
      "19   지방하객이 오기 편한 점- 주차 2000대 이상 가능한 점- 합리적인 가격의 웨딩홀 !              웨딩스퀘어 강변\n",
      "20  로비에서부터 퍼지는 좋은 향기- 3층 전체를 단독 사용 (+하루 예식 최대 2타임)...         포시즌스 호텔 그랜드볼룸\n",
      "21  저는 극강의 어두운 홀을 비선호하고 그리너리하고 깔끔한 홀을 선호했습니다.그래서 밝...              노블발렌티 대치\n",
      "22  교통양재aT포레는 건물에 주차가 1000대 가능하고, 대절 버스도 지상에 전용 주차...                양재aT포레\n",
      "23  웨딩홀에 크게 로망이 있거나 하지 않았고 타 업체 대비 홀패키지 비용 및 식대가 합...           인천 라페니체 웨딩홀\n",
      "24  넉넉한 주차 시간, 공간동시예식하얀벽으로 포인트 되는 어두운 홀의 유니크한 분위기풍...           더세인트 그랜드볼룸홀\n",
      "25  단독홀로 넓은 공간을 이용할 수 있는점과 신세계 푸드에서 식사를 제공 하기때문에 밥...             그래머시 아셈볼룸\n",
      "26  인기많은 다른홀들 거의다 돌아봤는데, 더링크말고는 다....올드하고 별로였어요ㅠ 진...                 더링크호텔\n",
      "27  교통, 주차, 음식이 위주인 곳으로 생각했었는데 여기는 여러번 하객으로 갔을 때 모...    웨스텐베니비스 신도림 다이너스티홀\n",
      "28  하루 한 팀 받는 야외웨딩을 찾다가 한옥웨딩이 유니크하고 예뻐보여서 선택했습니다. ...                   휘겸재\n",
      "29  분리 예식이지만 코스요리 제공 & 단독홀- 합리적인 가격- 대중교통 & 주차 모두 ...              노블발렌티 삼성\n",
      "30  식을 부천에서 올려야 해 부천 웨딩홀 위주로 알아보았고 후보는 MJ, 삼산체육관웨딩...             부천 소풍 웨딩홀\n",
      "31  어릴때부터 야외웨딩 꿈꿧는데 아무래도 날씨 변수가 크다보니 야외웨딩 느낌 나는곳 +...               크레스트 72\n"
     ]
    }
   ],
   "source": [
    "from rank_bm25 import BM25Okapi\n",
    "\n",
    "# 예시 리뷰 데이터\n",
    "reviews = df_full['선택 이유'].tolist()\n",
    "\n",
    "# 토큰화 및 BM25 모델 생성\n",
    "tokenized_reviews = [str(review).split(\" \") if isinstance(review, str) else \"\" for review in reviews]\n",
    "bm25 = BM25Okapi(tokenized_reviews)\n",
    "\n",
    "# 쿼리\n",
    "queries = [\"주차 편리\"]\n",
    "filtered_indices = set()\n",
    "\n",
    "# 각 쿼리에 대해 BM25 점수 계산 및 필터링\n",
    "for query in queries:\n",
    "    query_tokens = query.split(\" \")\n",
    "    scores = bm25.get_scores(query_tokens)\n",
    "    query_filtered_indices = [i for i, score in enumerate(scores) if score > 0]\n",
    "    filtered_indices.update(query_filtered_indices)  # 중복되지 않도록 인덱스를 집합에 추가\n",
    "\n",
    "# 필터링된 인덱스로 데이터 추출\n",
    "filtered_reviews = df_full.iloc[list(filtered_indices)].reset_index(drop=True)\n",
    "print(\" '주차 편리' 키워드로 필터링 된 리뷰들:\", filtered_reviews)\n"
   ]
  },
  {
   "cell_type": "code",
   "execution_count": 16,
   "metadata": {},
   "outputs": [
    {
     "name": "stdout",
     "output_type": "stream",
     "text": [
      "[0.         0.         0.         0.         0.         0.\n",
      " 0.         0.         0.         0.         2.00271304 0.\n",
      " 0.         2.74681508 0.         0.         0.         0.\n",
      " 0.         0.         1.86778603 0.         0.         0.\n",
      " 0.         0.         0.         0.         0.         0.\n",
      " 0.         0.         0.         0.         0.         0.\n",
      " 0.         0.         0.         0.         0.         0.\n",
      " 0.         0.         1.51139535 0.         0.         0.\n",
      " 0.         0.         0.         0.         0.         1.84704612\n",
      " 0.         0.         0.         0.         0.         0.\n",
      " 0.         0.         1.73167498 0.         0.         0.\n",
      " 0.         0.         0.         0.         0.         0.\n",
      " 2.49693354 0.         0.         0.         0.         0.\n",
      " 0.         0.         0.         0.         0.         0.\n",
      " 0.         1.2362033  0.         2.18703373 0.         0.\n",
      " 0.         0.         0.         0.         2.99401929 0.\n",
      " 0.         0.         0.         1.9556223  0.         0.\n",
      " 0.         0.         0.         0.         0.         0.\n",
      " 0.         0.         0.         0.         0.         0.\n",
      " 0.         0.         3.62651059 0.         0.         0.\n",
      " 2.72432145 0.         0.         0.         0.         0.\n",
      " 0.         0.         0.         0.         0.         0.\n",
      " 0.         0.         0.         0.         1.21365433 0.\n",
      " 0.         0.         0.         0.         0.         0.\n",
      " 0.         0.         0.         0.         0.         0.\n",
      " 0.96118606 0.         0.         0.         0.         0.\n",
      " 1.05910539 0.         0.         0.         0.         0.\n",
      " 0.         0.         0.         2.14712277 0.         0.\n",
      " 0.         0.         0.         0.         0.         0.\n",
      " 0.         0.         0.         0.         2.34092531 0.\n",
      " 1.83684794 0.         0.         0.         0.         0.\n",
      " 0.         0.         0.         1.39714346 0.         2.30650749\n",
      " 0.         0.         0.         0.         0.         0.\n",
      " 0.         0.         0.         1.19139823 0.         3.32298236\n",
      " 2.17275015 0.         0.         0.         0.         0.\n",
      " 0.         0.         0.         0.         1.57120812 0.\n",
      " 0.         0.         0.         0.         0.         0.\n",
      " 0.         1.63789361 0.         0.         0.         0.\n",
      " 0.         0.         0.         0.         0.         0.\n",
      " 0.         0.         0.         0.         0.         3.58740479\n",
      " 0.         2.23103394 0.         0.         0.         1.59854296\n",
      " 0.         0.         0.         0.         0.         0.\n",
      " 0.         0.         0.         0.         0.         0.\n",
      " 0.         0.         0.         0.         0.         0.74240086\n",
      " 0.         0.         0.         0.         0.         0.\n",
      " 0.         0.         0.         0.         0.         1.82676176\n",
      " 0.         0.         0.         0.         0.         0.\n",
      " 0.         0.         0.         0.         1.79715703 0.\n",
      " 0.         0.         0.         0.         0.         0.\n",
      " 0.         0.         0.        ]\n"
     ]
    }
   ],
   "source": [
    "print(scores)"
   ]
  },
  {
   "cell_type": "code",
   "execution_count": 17,
   "metadata": {},
   "outputs": [
    {
     "data": {
      "text/html": [
       "<div>\n",
       "<style scoped>\n",
       "    .dataframe tbody tr th:only-of-type {\n",
       "        vertical-align: middle;\n",
       "    }\n",
       "\n",
       "    .dataframe tbody tr th {\n",
       "        vertical-align: top;\n",
       "    }\n",
       "\n",
       "    .dataframe thead th {\n",
       "        text-align: right;\n",
       "    }\n",
       "</style>\n",
       "<table border=\"1\" class=\"dataframe\">\n",
       "  <thead>\n",
       "    <tr style=\"text-align: right;\">\n",
       "      <th></th>\n",
       "      <th>선택 이유</th>\n",
       "      <th>베뉴 이름</th>\n",
       "    </tr>\n",
       "  </thead>\n",
       "  <tbody>\n",
       "    <tr>\n",
       "      <th>0</th>\n",
       "      <td>수원에서 예식하기로 생각했고 저희는 아무래도 친척이 각각 파주, 부산에 거주하고 계...</td>\n",
       "      <td>수원 디에스컨벤션</td>\n",
       "    </tr>\n",
       "    <tr>\n",
       "      <th>1</th>\n",
       "      <td>올해 2월달에 예식장 상담을 받았는데 이제야 후기를 작성해봅니다ㅎㅎㅎ 더컨벤션 잠실...</td>\n",
       "      <td>웨딩 여율리</td>\n",
       "    </tr>\n",
       "    <tr>\n",
       "      <th>2</th>\n",
       "      <td>이전 후기에도 적었듯 하객으로 왔을 때 아주 맘에 들었던 홀입니다 ㅎㅎ 다른 하객분...</td>\n",
       "      <td>신도림 더세인트</td>\n",
       "    </tr>\n",
       "    <tr>\n",
       "      <th>3</th>\n",
       "      <td>그랜드볼룸홀이 크고 웅장한 느낌이라 호텔예식을 합리적인 가격으로 원하시는 분들에게 ...</td>\n",
       "      <td>신도림 웨딩시티 그랜드볼룸홀</td>\n",
       "    </tr>\n",
       "    <tr>\n",
       "      <th>4</th>\n",
       "      <td>더컨벤션 영등포 점은 2순위였는데 여기가 먼저 가격,예약이 오픈되어서 방문했다가 괜...</td>\n",
       "      <td>더컨벤션 영등포 (1F 그랜드볼룸홀)</td>\n",
       "    </tr>\n",
       "    <tr>\n",
       "      <th>5</th>\n",
       "      <td>엘타워가 식사가 맛있고 주차 와 교통이 편리한 곳으로 이미 유명하더라고요.직접가서 ...</td>\n",
       "      <td>엘타워 그레이스홀</td>\n",
       "    </tr>\n",
       "    <tr>\n",
       "      <th>6</th>\n",
       "      <td>수원 지역부터 강남 지역까지 한 6개 웨딩홀 투어를 했었는데 마음에 드는 걸 찾지 ...</td>\n",
       "      <td>더마레보호텔&amp;웨딩</td>\n",
       "    </tr>\n",
       "    <tr>\n",
       "      <th>7</th>\n",
       "      <td>안녕하세요 내년 4워러 결혼을 앞둔 예비 신부입니다. 저희는 각자 본가 위치 때문에...</td>\n",
       "      <td>더리버사이드호텔</td>\n",
       "    </tr>\n",
       "    <tr>\n",
       "      <th>8</th>\n",
       "      <td>삼성역으로 접근성이 가장 좋다는 점이 끌렸습니다. 저는 소노펠리체컨벤션과 더컨벤션신...</td>\n",
       "      <td>소노펠리체컨벤션</td>\n",
       "    </tr>\n",
       "    <tr>\n",
       "      <th>9</th>\n",
       "      <td>안녕하세요 저는 9월 말에 결혼을 앞둔 예비신랑이에요. 여자친구와 제가 중요하게 생...</td>\n",
       "      <td>라비니움</td>\n",
       "    </tr>\n",
       "    <tr>\n",
       "      <th>10</th>\n",
       "      <td>밥이 맛있고 주차 공간(1,400대 정도) 넉넉할 것!신랑측, 저희 측 합쳐서 하객...</td>\n",
       "      <td>루이비스컨벤션 송파문정 그레이스홀</td>\n",
       "    </tr>\n",
       "    <tr>\n",
       "      <th>11</th>\n",
       "      <td>밝은홀을 찾고 있었는데, 마침 내년에 공사가 시작를 한다는 말에 어! 여기다 라는 ...</td>\n",
       "      <td>라마다 신도림, 하늘정원 홀</td>\n",
       "    </tr>\n",
       "    <tr>\n",
       "      <th>12</th>\n",
       "      <td>주차 2,000대 이상 수용 가능한 점, KTX 정차역 (영등포역) 인근 위치해 있...</td>\n",
       "      <td>웨딩시티 신도림 스타티스홀</td>\n",
       "    </tr>\n",
       "    <tr>\n",
       "      <th>13</th>\n",
       "      <td>웨스턴베니비스(신도림)웨딩홀 는 주차와 식사 위치 홀 분위기를 중점적으로 봤습니다....</td>\n",
       "      <td>신도림 웨스턴 베니비스</td>\n",
       "    </tr>\n",
       "    <tr>\n",
       "      <th>14</th>\n",
       "      <td>단독홀이라 복잡할것 같지않고 다른곳처럼 공장에서 찍어낸다는 느낌이 적을것같아요.(s...</td>\n",
       "      <td>청주 S가든 웨딩홀</td>\n",
       "    </tr>\n",
       "    <tr>\n",
       "      <th>15</th>\n",
       "      <td>서울대학교 내 4개의 웨딩홀들 중 홀이 저희 취향에 가장 예뻤습니다.- 단독건물, ...</td>\n",
       "      <td>서울대학교 연구공원 웨딩홀</td>\n",
       "    </tr>\n",
       "    <tr>\n",
       "      <th>16</th>\n",
       "      <td>웨딩홀을 알아 볼 당시 고려했던 사항들이 충족되어 더 세인트에서 계약을 진행하게 되...</td>\n",
       "      <td>신도림 더 세인트</td>\n",
       "    </tr>\n",
       "    <tr>\n",
       "      <th>17</th>\n",
       "      <td>제가 제일 중요하게 생각했던 부분이 주차와 밥인데 서울대 내에서 가장 괜찮다고 판단...</td>\n",
       "      <td>서울대 연구공원 웨딩홀</td>\n",
       "    </tr>\n",
       "    <tr>\n",
       "      <th>18</th>\n",
       "      <td>넓은 주차공간비렌티에 상담 갔을 때 제일 놀랐던 것은 주차공간이었습니다. 건물 앞쪽...</td>\n",
       "      <td>비렌티 웨딩홀</td>\n",
       "    </tr>\n",
       "    <tr>\n",
       "      <th>19</th>\n",
       "      <td>지방하객이 오기 편한 점- 주차 2000대 이상 가능한 점- 합리적인 가격의 웨딩홀 !</td>\n",
       "      <td>웨딩스퀘어 강변</td>\n",
       "    </tr>\n",
       "    <tr>\n",
       "      <th>20</th>\n",
       "      <td>로비에서부터 퍼지는 좋은 향기- 3층 전체를 단독 사용 (+하루 예식 최대 2타임)...</td>\n",
       "      <td>포시즌스 호텔 그랜드볼룸</td>\n",
       "    </tr>\n",
       "    <tr>\n",
       "      <th>21</th>\n",
       "      <td>저는 극강의 어두운 홀을 비선호하고 그리너리하고 깔끔한 홀을 선호했습니다.그래서 밝...</td>\n",
       "      <td>노블발렌티 대치</td>\n",
       "    </tr>\n",
       "    <tr>\n",
       "      <th>22</th>\n",
       "      <td>교통양재aT포레는 건물에 주차가 1000대 가능하고, 대절 버스도 지상에 전용 주차...</td>\n",
       "      <td>양재aT포레</td>\n",
       "    </tr>\n",
       "    <tr>\n",
       "      <th>23</th>\n",
       "      <td>웨딩홀에 크게 로망이 있거나 하지 않았고 타 업체 대비 홀패키지 비용 및 식대가 합...</td>\n",
       "      <td>인천 라페니체 웨딩홀</td>\n",
       "    </tr>\n",
       "    <tr>\n",
       "      <th>24</th>\n",
       "      <td>넉넉한 주차 시간, 공간동시예식하얀벽으로 포인트 되는 어두운 홀의 유니크한 분위기풍...</td>\n",
       "      <td>더세인트 그랜드볼룸홀</td>\n",
       "    </tr>\n",
       "    <tr>\n",
       "      <th>25</th>\n",
       "      <td>단독홀로 넓은 공간을 이용할 수 있는점과 신세계 푸드에서 식사를 제공 하기때문에 밥...</td>\n",
       "      <td>그래머시 아셈볼룸</td>\n",
       "    </tr>\n",
       "    <tr>\n",
       "      <th>26</th>\n",
       "      <td>인기많은 다른홀들 거의다 돌아봤는데, 더링크말고는 다....올드하고 별로였어요ㅠ 진...</td>\n",
       "      <td>더링크호텔</td>\n",
       "    </tr>\n",
       "    <tr>\n",
       "      <th>27</th>\n",
       "      <td>교통, 주차, 음식이 위주인 곳으로 생각했었는데 여기는 여러번 하객으로 갔을 때 모...</td>\n",
       "      <td>웨스텐베니비스 신도림 다이너스티홀</td>\n",
       "    </tr>\n",
       "    <tr>\n",
       "      <th>28</th>\n",
       "      <td>하루 한 팀 받는 야외웨딩을 찾다가 한옥웨딩이 유니크하고 예뻐보여서 선택했습니다. ...</td>\n",
       "      <td>휘겸재</td>\n",
       "    </tr>\n",
       "    <tr>\n",
       "      <th>29</th>\n",
       "      <td>분리 예식이지만 코스요리 제공 &amp; 단독홀- 합리적인 가격- 대중교통 &amp; 주차 모두 ...</td>\n",
       "      <td>노블발렌티 삼성</td>\n",
       "    </tr>\n",
       "    <tr>\n",
       "      <th>30</th>\n",
       "      <td>식을 부천에서 올려야 해 부천 웨딩홀 위주로 알아보았고 후보는 MJ, 삼산체육관웨딩...</td>\n",
       "      <td>부천 소풍 웨딩홀</td>\n",
       "    </tr>\n",
       "    <tr>\n",
       "      <th>31</th>\n",
       "      <td>어릴때부터 야외웨딩 꿈꿧는데 아무래도 날씨 변수가 크다보니 야외웨딩 느낌 나는곳 +...</td>\n",
       "      <td>크레스트 72</td>\n",
       "    </tr>\n",
       "  </tbody>\n",
       "</table>\n",
       "</div>"
      ],
      "text/plain": [
       "                                                선택 이유                 베뉴 이름\n",
       "0   수원에서 예식하기로 생각했고 저희는 아무래도 친척이 각각 파주, 부산에 거주하고 계...             수원 디에스컨벤션\n",
       "1   올해 2월달에 예식장 상담을 받았는데 이제야 후기를 작성해봅니다ㅎㅎㅎ 더컨벤션 잠실...                웨딩 여율리\n",
       "2   이전 후기에도 적었듯 하객으로 왔을 때 아주 맘에 들었던 홀입니다 ㅎㅎ 다른 하객분...              신도림 더세인트\n",
       "3   그랜드볼룸홀이 크고 웅장한 느낌이라 호텔예식을 합리적인 가격으로 원하시는 분들에게 ...       신도림 웨딩시티 그랜드볼룸홀\n",
       "4   더컨벤션 영등포 점은 2순위였는데 여기가 먼저 가격,예약이 오픈되어서 방문했다가 괜...  더컨벤션 영등포 (1F 그랜드볼룸홀)\n",
       "5   엘타워가 식사가 맛있고 주차 와 교통이 편리한 곳으로 이미 유명하더라고요.직접가서 ...             엘타워 그레이스홀\n",
       "6   수원 지역부터 강남 지역까지 한 6개 웨딩홀 투어를 했었는데 마음에 드는 걸 찾지 ...             더마레보호텔&웨딩\n",
       "7   안녕하세요 내년 4워러 결혼을 앞둔 예비 신부입니다. 저희는 각자 본가 위치 때문에...              더리버사이드호텔\n",
       "8   삼성역으로 접근성이 가장 좋다는 점이 끌렸습니다. 저는 소노펠리체컨벤션과 더컨벤션신...              소노펠리체컨벤션\n",
       "9   안녕하세요 저는 9월 말에 결혼을 앞둔 예비신랑이에요. 여자친구와 제가 중요하게 생...                  라비니움\n",
       "10  밥이 맛있고 주차 공간(1,400대 정도) 넉넉할 것!신랑측, 저희 측 합쳐서 하객...    루이비스컨벤션 송파문정 그레이스홀\n",
       "11  밝은홀을 찾고 있었는데, 마침 내년에 공사가 시작를 한다는 말에 어! 여기다 라는 ...       라마다 신도림, 하늘정원 홀\n",
       "12  주차 2,000대 이상 수용 가능한 점, KTX 정차역 (영등포역) 인근 위치해 있...        웨딩시티 신도림 스타티스홀\n",
       "13  웨스턴베니비스(신도림)웨딩홀 는 주차와 식사 위치 홀 분위기를 중점적으로 봤습니다....          신도림 웨스턴 베니비스\n",
       "14  단독홀이라 복잡할것 같지않고 다른곳처럼 공장에서 찍어낸다는 느낌이 적을것같아요.(s...            청주 S가든 웨딩홀\n",
       "15  서울대학교 내 4개의 웨딩홀들 중 홀이 저희 취향에 가장 예뻤습니다.- 단독건물, ...        서울대학교 연구공원 웨딩홀\n",
       "16  웨딩홀을 알아 볼 당시 고려했던 사항들이 충족되어 더 세인트에서 계약을 진행하게 되...             신도림 더 세인트\n",
       "17  제가 제일 중요하게 생각했던 부분이 주차와 밥인데 서울대 내에서 가장 괜찮다고 판단...          서울대 연구공원 웨딩홀\n",
       "18  넓은 주차공간비렌티에 상담 갔을 때 제일 놀랐던 것은 주차공간이었습니다. 건물 앞쪽...               비렌티 웨딩홀\n",
       "19   지방하객이 오기 편한 점- 주차 2000대 이상 가능한 점- 합리적인 가격의 웨딩홀 !              웨딩스퀘어 강변\n",
       "20  로비에서부터 퍼지는 좋은 향기- 3층 전체를 단독 사용 (+하루 예식 최대 2타임)...         포시즌스 호텔 그랜드볼룸\n",
       "21  저는 극강의 어두운 홀을 비선호하고 그리너리하고 깔끔한 홀을 선호했습니다.그래서 밝...              노블발렌티 대치\n",
       "22  교통양재aT포레는 건물에 주차가 1000대 가능하고, 대절 버스도 지상에 전용 주차...                양재aT포레\n",
       "23  웨딩홀에 크게 로망이 있거나 하지 않았고 타 업체 대비 홀패키지 비용 및 식대가 합...           인천 라페니체 웨딩홀\n",
       "24  넉넉한 주차 시간, 공간동시예식하얀벽으로 포인트 되는 어두운 홀의 유니크한 분위기풍...           더세인트 그랜드볼룸홀\n",
       "25  단독홀로 넓은 공간을 이용할 수 있는점과 신세계 푸드에서 식사를 제공 하기때문에 밥...             그래머시 아셈볼룸\n",
       "26  인기많은 다른홀들 거의다 돌아봤는데, 더링크말고는 다....올드하고 별로였어요ㅠ 진...                 더링크호텔\n",
       "27  교통, 주차, 음식이 위주인 곳으로 생각했었는데 여기는 여러번 하객으로 갔을 때 모...    웨스텐베니비스 신도림 다이너스티홀\n",
       "28  하루 한 팀 받는 야외웨딩을 찾다가 한옥웨딩이 유니크하고 예뻐보여서 선택했습니다. ...                   휘겸재\n",
       "29  분리 예식이지만 코스요리 제공 & 단독홀- 합리적인 가격- 대중교통 & 주차 모두 ...              노블발렌티 삼성\n",
       "30  식을 부천에서 올려야 해 부천 웨딩홀 위주로 알아보았고 후보는 MJ, 삼산체육관웨딩...             부천 소풍 웨딩홀\n",
       "31  어릴때부터 야외웨딩 꿈꿧는데 아무래도 날씨 변수가 크다보니 야외웨딩 느낌 나는곳 +...               크레스트 72"
      ]
     },
     "execution_count": 17,
     "metadata": {},
     "output_type": "execute_result"
    }
   ],
   "source": [
    "filtered_reviews"
   ]
  },
  {
   "cell_type": "markdown",
   "metadata": {},
   "source": [
    "### 추천 결과 추론"
   ]
  },
  {
   "cell_type": "code",
   "execution_count": 18,
   "metadata": {
    "executionInfo": {
     "elapsed": 3,
     "status": "ok",
     "timestamp": 1729520349991,
     "user": {
      "displayName": "이유진",
      "userId": "10989976370749247256"
     },
     "user_tz": -540
    },
    "id": "BaznOPl-zTDw"
   },
   "outputs": [],
   "source": [
    "def predict_next_items(model, user_sequence, filtered_reviews, dataset, max_seq_len=10, top_k=10):\n",
    "    # 전체 venue 이름을 dataset에서 가져옴\n",
    "    venue_names = dataset.venue_names\n",
    "\n",
    "    # 입력 시퀀스를 인덱스로 변환하고 패딩 적용\n",
    "    indexed_seq = [venue_names.index(item) if item in venue_names else len(venue_names) - 1 for item in user_sequence]\n",
    "    if len(indexed_seq) < max_seq_len:\n",
    "        indexed_seq = [0] * (max_seq_len - len(indexed_seq)) + indexed_seq  # 앞쪽에 패딩 추가\n",
    "    else:\n",
    "        indexed_seq = indexed_seq[-max_seq_len:]  # 최근 max_seq_len만 사용\n",
    "\n",
    "    # 모델 입력 형태로 변환 (배치 차원 추가)\n",
    "    input_ids = torch.tensor(indexed_seq, dtype=torch.long).unsqueeze(0).to(next(model.parameters()).device)\n",
    "\n",
    "    # 모델 예측\n",
    "    model.eval()\n",
    "    with torch.no_grad():\n",
    "        logits = model(input_ids)\n",
    "        predictions = logits[0, -1]  # 마지막 위치의 예측 결과\n",
    "\n",
    "    # 상위 top_k개의 추천 venue 인덱스\n",
    "    top_k_indices = predictions.topk(top_k).indices.tolist()\n",
    "    recommended_items = [venue_names[idx] for idx in top_k_indices if idx < len(venue_names)]\n",
    "    print(top_k_indices)\n",
    "\n",
    "    # filtered_reviews에 추천된 venue만 반환\n",
    "    final_recommendations = [item for item in recommended_items if not filtered_reviews[filtered_reviews['베뉴 이름'] == item].empty]\n",
    "\n",
    "    return final_recommendations\n",
    "\n"
   ]
  },
  {
   "cell_type": "code",
   "execution_count": null,
   "metadata": {},
   "outputs": [
    {
     "name": "stdout",
     "output_type": "stream",
     "text": [
      "[44, 28, 41, 133, 38, 52, 46, 96, 134, 94]\n",
      "Recommended items: ['신도림 웨스턴 베니비스']\n"
     ]
    }
   ],
   "source": [
    "# 예시 호출\n",
    "user_sequence = ['부천 소풍 웨딩홀', '더세인트 그랜드볼룸홀','아펠가모 광화문점']  # 유저 시퀀스 예시\n",
    "recommended_items = predict_next_items(model, user_sequence, filtered_reviews, dataset)\n",
    "print(\"Recommended items:\", recommended_items)"
   ]
  },
  {
   "cell_type": "code",
   "execution_count": 20,
   "metadata": {},
   "outputs": [
    {
     "name": "stdout",
     "output_type": "stream",
     "text": [
      "추천 콘텐츠:  ['신도림 웨스턴 베니비스']\n"
     ]
    }
   ],
   "source": [
    "print(\"추천 콘텐츠: \", recommended_items)"
   ]
  },
  {
   "cell_type": "markdown",
   "metadata": {},
   "source": [
    "# 결과 비교"
   ]
  },
  {
   "cell_type": "code",
   "execution_count": 21,
   "metadata": {},
   "outputs": [],
   "source": [
    "# 데이터프레임에서 user_sequence에 해당하는 name 필터링\n",
    "filtered_df = df_full[df_full['베뉴 이름'].isin(user_sequence)]\n",
    "infer_filtered_df=df_full[df_full['베뉴 이름'].isin(recommended_items)]"
   ]
  },
  {
   "cell_type": "code",
   "execution_count": 22,
   "metadata": {},
   "outputs": [
    {
     "data": {
      "text/html": [
       "<div>\n",
       "<style scoped>\n",
       "    .dataframe tbody tr th:only-of-type {\n",
       "        vertical-align: middle;\n",
       "    }\n",
       "\n",
       "    .dataframe tbody tr th {\n",
       "        vertical-align: top;\n",
       "    }\n",
       "\n",
       "    .dataframe thead th {\n",
       "        text-align: right;\n",
       "    }\n",
       "</style>\n",
       "<table border=\"1\" class=\"dataframe\">\n",
       "  <thead>\n",
       "    <tr style=\"text-align: right;\">\n",
       "      <th></th>\n",
       "      <th>선택 이유</th>\n",
       "      <th>베뉴 이름</th>\n",
       "    </tr>\n",
       "  </thead>\n",
       "  <tbody>\n",
       "    <tr>\n",
       "      <th>117</th>\n",
       "      <td>아펠가모는 홀투어 상담 없이도 아펠가모 홈페이지에 가입하면 화면처럼 이렇게 날짜별로...</td>\n",
       "      <td>아펠가모 광화문점</td>\n",
       "    </tr>\n",
       "    <tr>\n",
       "      <th>128</th>\n",
       "      <td>저희가 희망했던 예식 날짜가 마침 남아 있었고(덕분에 저희가 처음 사귀게 된 날이 ...</td>\n",
       "      <td>더세인트 그랜드볼룸 홀</td>\n",
       "    </tr>\n",
       "    <tr>\n",
       "      <th>228</th>\n",
       "      <td>아펠가모로 정하자마자 아페락모 사이트를 먼저 들어가봤습니다.사이트에서 견적을 다 확...</td>\n",
       "      <td>아펠가모 광화문점</td>\n",
       "    </tr>\n",
       "    <tr>\n",
       "      <th>245</th>\n",
       "      <td>식을 부천에서 올려야 해 부천 웨딩홀 위주로 알아보았고 후보는 MJ, 삼산체육관웨딩...</td>\n",
       "      <td>부천 소풍 웨딩홀</td>\n",
       "    </tr>\n",
       "  </tbody>\n",
       "</table>\n",
       "</div>"
      ],
      "text/plain": [
       "                                                 선택 이유         베뉴 이름\n",
       "117  아펠가모는 홀투어 상담 없이도 아펠가모 홈페이지에 가입하면 화면처럼 이렇게 날짜별로...     아펠가모 광화문점\n",
       "128  저희가 희망했던 예식 날짜가 마침 남아 있었고(덕분에 저희가 처음 사귀게 된 날이 ...  더세인트 그랜드볼룸 홀\n",
       "228  아펠가모로 정하자마자 아페락모 사이트를 먼저 들어가봤습니다.사이트에서 견적을 다 확...     아펠가모 광화문점\n",
       "245  식을 부천에서 올려야 해 부천 웨딩홀 위주로 알아보았고 후보는 MJ, 삼산체육관웨딩...     부천 소풍 웨딩홀"
      ]
     },
     "execution_count": 22,
     "metadata": {},
     "output_type": "execute_result"
    }
   ],
   "source": [
    "filtered_df"
   ]
  },
  {
   "cell_type": "code",
   "execution_count": 23,
   "metadata": {},
   "outputs": [
    {
     "data": {
      "text/html": [
       "<div>\n",
       "<style scoped>\n",
       "    .dataframe tbody tr th:only-of-type {\n",
       "        vertical-align: middle;\n",
       "    }\n",
       "\n",
       "    .dataframe tbody tr th {\n",
       "        vertical-align: top;\n",
       "    }\n",
       "\n",
       "    .dataframe thead th {\n",
       "        text-align: right;\n",
       "    }\n",
       "</style>\n",
       "<table border=\"1\" class=\"dataframe\">\n",
       "  <thead>\n",
       "    <tr style=\"text-align: right;\">\n",
       "      <th></th>\n",
       "      <th>선택 이유</th>\n",
       "      <th>베뉴 이름</th>\n",
       "    </tr>\n",
       "  </thead>\n",
       "  <tbody>\n",
       "    <tr>\n",
       "      <th>53</th>\n",
       "      <td>웨스턴베니비스(신도림)웨딩홀 는 주차와 식사 위치 홀 분위기를 중점적으로 봤습니다....</td>\n",
       "      <td>신도림 웨스턴 베니비스</td>\n",
       "    </tr>\n",
       "    <tr>\n",
       "      <th>157</th>\n",
       "      <td>일단 서울 홀투어를 할 예정이라 차를 가져가지 않았었습니다. 지하철역에서 7분정도?...</td>\n",
       "      <td>신도림 웨스턴 베니비스</td>\n",
       "    </tr>\n",
       "  </tbody>\n",
       "</table>\n",
       "</div>"
      ],
      "text/plain": [
       "                                                 선택 이유         베뉴 이름\n",
       "53   웨스턴베니비스(신도림)웨딩홀 는 주차와 식사 위치 홀 분위기를 중점적으로 봤습니다....  신도림 웨스턴 베니비스\n",
       "157  일단 서울 홀투어를 할 예정이라 차를 가져가지 않았었습니다. 지하철역에서 7분정도?...  신도림 웨스턴 베니비스"
      ]
     },
     "execution_count": 23,
     "metadata": {},
     "output_type": "execute_result"
    }
   ],
   "source": [
    "infer_filtered_df"
   ]
  },
  {
   "cell_type": "code",
   "execution_count": 24,
   "metadata": {},
   "outputs": [],
   "source": [
    "def user_liking_list(df):\n",
    "    with pd.option_context('display.max_colwidth', None):\n",
    "        display(df)\n"
   ]
  },
  {
   "cell_type": "code",
   "execution_count": 25,
   "metadata": {},
   "outputs": [
    {
     "data": {
      "text/html": [
       "<div>\n",
       "<style scoped>\n",
       "    .dataframe tbody tr th:only-of-type {\n",
       "        vertical-align: middle;\n",
       "    }\n",
       "\n",
       "    .dataframe tbody tr th {\n",
       "        vertical-align: top;\n",
       "    }\n",
       "\n",
       "    .dataframe thead th {\n",
       "        text-align: right;\n",
       "    }\n",
       "</style>\n",
       "<table border=\"1\" class=\"dataframe\">\n",
       "  <thead>\n",
       "    <tr style=\"text-align: right;\">\n",
       "      <th></th>\n",
       "      <th>선택 이유</th>\n",
       "      <th>베뉴 이름</th>\n",
       "    </tr>\n",
       "  </thead>\n",
       "  <tbody>\n",
       "    <tr>\n",
       "      <th>117</th>\n",
       "      <td>아펠가모는 홀투어 상담 없이도 아펠가모 홈페이지에 가입하면 화면처럼 이렇게 날짜별로 견적이랑 세부내용 확인할 수 있거든요. 부대상품이 너무 마음에 들었어요 웨딩홀이랑 신부대기실 생화장식이랑 전문사회자, 피아노 3중주가 포함되어있고 본식영상촬영이랑 웨딩케어 트리츠스파 2회 이용권까지 제공된다는점!!ㅡ 아펠가모가 워낙 식사로 맛있기로 유명하지만 광화문점은 막걸리와 생맥주가 무한으로 가능하고 바로바로 요리해주시는 메뉴가 많은 것 같아요. 피자도 화덕에 구워 바로 나온다고 하고, LA갈비도 바로 구워주더라구요. 면요리도 즉석에서 바로바로 해준대요. 초대하는 부모님 하객분들이 좋아하실듯 해요ㅡ 페백도 할 계획인데 폐백실 괜찮은곳 찾기 은근 어렵더라구요 ㅠㅠ 여기는 한옥 느낌으로 폐백실도 잘 되어있고전통 궁중혼례복 입고 사진도 찍어볼수 있다고 해서 선택했습니다.- 제니하우스에서 운영하는 혼주 헤어&amp;메이크업샵이 입점되어 있더라구요. 부모님들은 여기서 헤메 받으시면 편할 것 같아요.ㅡ 그 외에도 양가 집이랑 멀지 않고 채플형 느낌의 단독홀도 마음에 들었고 주차도 편리해서 좋을거 같았습니다</td>\n",
       "      <td>아펠가모 광화문점</td>\n",
       "    </tr>\n",
       "    <tr>\n",
       "      <th>128</th>\n",
       "      <td>저희가 희망했던 예식 날짜가 마침 남아 있었고(덕분에 저희가 처음 사귀게 된 날이 결혼기념일이 될 것 같네요.!), 전체적인 가격대가 저희가 생각한 예산에 부합해서 최종 결정하게 되었습니다~홀은 지하1층에 위치한 그랜드컨벤션 홀과 지상2층에 위치한 파티움홀이 있었고, 홀 투어 당시 두 곳을 모두 보았습니다. 사실 저희는 어두운 홀로 거의 생각을 정리했었기에 밝은 홀인 파티움홀은 큰 기대가 없었는데 막상 보니 생각한 것보다 너무 근사했습니다.꽃장식도 화사한 느낌이었고(이건 바뀔 수 있다 하시지만 항상 밝은 분위기로 꾸며주시는 듯 했습니다) 무엇보다 신부 입장에 맞추어 암막커튼이 걷히면서 자연채광이 들어오는 것이 가장 큰 매력이었어요. 밝은 홀이 아무래도 집중이 분산되는 단점이 있겠다 싶었는데 커튼을 잘 활용하면 충분히 집중도를 높일 수 있겠더라구요. 저희는 결론적으로 이 홀을 선택하지는 않았지만 마지막까지도 고민 많이 했던 것 같아요 ㅠㅠ* 그랜드컨벤션 홀저희가 선택한 그랜드컨벤션 홀은 어두운 홀의 정석인 느낌이고, 층고가 높아 웅장한 느낌도 들었습니다. 저희가 가장 맘에 들었던 부분은 전면부 스크린인데요. 홀투어 다니면서 스크린이 홀 한쪽 벽면에 내려와서 영상을 틀어주는 형태를 많이 보았는데, 그랜드컨벤션 홀은 그런 걱정 없이 전면부 스크린 양 사이드쪽에서 큰 화면으로 식전영상 및 식중영상을 재생할 수 있었답니다. 하객석 어느 자리에서든 스크린이 시원하게 보여서 저희는 너무 만족했던 것 같아요. 식 중간 중간에도 화면이 계속 바뀌면서 식순과 맞는 분위기로 연출되었던 점도 좋았어요.그랜드컨벤션홀 버진로드는 꽤 긴 편이고, 저희가 맘에 들었던 부분은 폭이 넓다는 부분이었어요. 요새는 신랑, 신랑아버지 동시입장, 양가 부모님 동시입장 이런 연출을 많이 하잖아요. 두명이서 나란히 버진로드를 걷는다고 해도 답답해보이는 느낌이 없고 넉넉하게 입장할 수 있겠더라구요. 물론 그랜드컨벤션홀은 전면부 스크린이 열리면서 신랑이 등장하는 방식으로 신랑입장을 연출할 수 있는데요. 많은 신랑 분들이 앞에서 등장하는 방식을 선택하신다고 하더라구요? 아무래도 이 홀만이 가진 특징이니까! 저희도 잘 고민해봐야겠어요 ㅎㅎ지하에 위치해있지만 건물에 들어오자마자 에스컬레이터가 바로 보여서 그대로 내려오면 홀이기 때문에 지하라는 느낌이 전혀 안드는 그랜드컨벤션홀 너무 맘에듭니다.!* 신부대기실더파티움의 신부대기실은 두가지 홀이 모두 웅장해요. 파티움홀을 선택한 신부님들이 사용하는 대기실은 제가 본 예식장 중에 제일 컸어요. 신부대기실에 신부만 있는 것이 아닌 가족들도 함께 대기하면서 신부 긴장을 풀어주는 것이 너무 보기 좋아보였네요(물론 서브 대기실도 꽤 넓게 마련되어 있답니다)저희가 선택한 그랜드컨벤션홀 신부대기실도 층고가 높고 전체적으로 화이트톤을 가지면서 어울리게 장식된 꽃들이 돋보이도록 꾸며져 있었어요. 신부대기실 동선도 좋고 신부대기실 자체가 넓은 편이어서 신부대기실을 찾아주시는 손님들이 대기를 하시게 되더라도 불편함이 전혀 없을 것 같아요.* 연회장연회장은 지하1층에 위치해있어요. 지하1층 그랜드컨벤션 홀을 선택하게 되면 하객분들이 층 이동 없이 바로 연회장을 이용하실 수 있답니다. 연회장에 들어가게 되면 몇시 예식의 하객인지 안내판을 확인하고 왼쪽 혹은 오른쪽으로 안내받게 됩니다. 아예 이동방향이 다르고 식사 공간도 분리되기 때문에 다른 예식과 하객이 겹칠 걱정은 안 되더라구요.저희가 선택할 때 연회장 관련해서 고민했던 부분이 한상+세미뷔페 형태였던 부분이었어요. 근데 직접 보니까 양도 푸짐하고 몇가지 음식을 제외하고는 리필도 가능하다고 하더라구요. 식사를 할 때도 특별히 이동하지 않고 제자리에서 리필을 받는 형식이라는 점에서 예식 후 신랑신부가 인사를 드리러 다닐 때도 하객들이 자리를 비우는 일이 전혀 없겠더라구요. 제가 보러갔을 때에도 하객이 정말 많았는데 세미뷔페 이용인원을 제외하고는 이동하는 사람이 거의 없어서 정신없지 않더라구요. 혼주 및 가족 친지들이 식사하는 공간도 한쪽에 넓게 마련되어 있답니다. 하객으로 방문했던 지인한테 물어보니 밥을 맛있게 먹었던 걸로 기억한다고 하더라구요!? 저희는 하객으로 방문한 적은 없어서 빨리 시식해보고 싶네요 ㅎㅎ</td>\n",
       "      <td>더세인트 그랜드볼룸 홀</td>\n",
       "    </tr>\n",
       "    <tr>\n",
       "      <th>228</th>\n",
       "      <td>아펠가모로 정하자마자 아페락모 사이트를 먼저 들어가봤습니다.사이트에서 견적을 다 확인 할 수 있어서 다른 예식장에 비해 가격을 투명하게 알 수 있어서더 신뢰가 갔습니다 ㅎㅎㅎㅎ 다른 식장들은 부르는게 값이고 가서 견적받으면 받는 사람마다 다 다르길래 걱정했었는데 사이트에 가격이 다 공개되니 더 좋았던 것 같습니다.홈페이지에서 바로 예약은 가능하지만, 첫 투어라 설명듣고 실제로 식장을 보고싶어서 바로 바로 홀투어 예약했습니다.가자마자 너무 친절하게 맞이해주셔서 너무 기분이 좋아졌고, 첫 방문이여서 하나부터 열까지 세세하게 설명을 들었습니다. 우선 무엇보다 아펠가모는 밥펠가모로 유명하여 연회장에서도 기대만큼 밥들이 맛있어 보였습니다.구경하고 당일예약을 하면 여라가지 혜택을 주신다고 하셨는데 가격+혜택 생각해보면 안 할 이유가 없어저녁에 바로 당일 예약까지 !!집에 갈때 꽃 한송이와 스타벅스 금액권을 주셨는데 너무 감동받았습니다... 뭔가 거길 다녀오면서 하루종일 기분이 좋았던 것 같습니다.</td>\n",
       "      <td>아펠가모 광화문점</td>\n",
       "    </tr>\n",
       "    <tr>\n",
       "      <th>245</th>\n",
       "      <td>식을 부천에서 올려야 해 부천 웨딩홀 위주로 알아보았고 후보는 MJ, 삼산체육관웨딩홀, 소풍 웨딩홀 세군데였습니다.저희의 기준은 어두운 홀, 식사 맛, 주차 3가지 였는데, 그 기준에 충족하는 웨딩홀이 소풍 웨딩홀이었어요!소풍웨딩홀은 베일리 홀(밝은 홀), 라온제나 홀(어두운 홀) 관이 2개 였는데 뷔페는 한곳에서 두 홀의 식사를 같이 진행하지만 예식시간이나 하객 식사 시간이 겹치지 않아 그것도 마음에 들었습니다.지난 주에 시식 다녀왔는데 맛도 기대 이상이었고 음식 종류가 지인짜 많아서 놀랐어요!하객 분들 배터지게 드시겠구나 싶었습니다ㅎㅎㅎ그리고 소풍 웨딩홀은 다 마음에 들었는데 백화점과 터미널이 연결되어 있어 주차를 가장 걱정했거든요..그래서 주말 예식 피크타임때 도보와 차량 이용해 다녀와보았는데 주차도 생각보다 금방했고 도보로 갔을 땐 백화점 통해 올라가는데 정문앞에 웨딩홀 직원분이 안내를 해주셔서 어렵지않게 찾아 갈 수 있었어요!본식 한달 남았는데 잘 치르고 또 후기도 남길게요!시식날 사진을 못찍어 아래 사진은 웨딩홀 홈페이지에서 발췌한 사진입니다.</td>\n",
       "      <td>부천 소풍 웨딩홀</td>\n",
       "    </tr>\n",
       "  </tbody>\n",
       "</table>\n",
       "</div>"
      ],
      "text/plain": [
       "                                                                                                                                                                                                                                                                                                                                                                                                                                                                                                                                                                                                                                                                                                                                                                                                                                                                                                                                                                                                                                                                                                                                                                                                                                                                                                                                                                                                                                                                                                                                                                                                                                                                                                                                                                                                                                                                                                                                                                                                                                                                                                                                                   선택 이유  \\\n",
       "117                                                                                                                                                                                                                                                                                                                                                                                                                                                                                                                                                                                                                                                                                                                                                                                                                                                                                                                                                                                                                                                                                                                                                                                                                                                                                                                                                                                                                                                                                                                                                                             아펠가모는 홀투어 상담 없이도 아펠가모 홈페이지에 가입하면 화면처럼 이렇게 날짜별로 견적이랑 세부내용 확인할 수 있거든요. 부대상품이 너무 마음에 들었어요 웨딩홀이랑 신부대기실 생화장식이랑 전문사회자, 피아노 3중주가 포함되어있고 본식영상촬영이랑 웨딩케어 트리츠스파 2회 이용권까지 제공된다는점!!ㅡ 아펠가모가 워낙 식사로 맛있기로 유명하지만 광화문점은 막걸리와 생맥주가 무한으로 가능하고 바로바로 요리해주시는 메뉴가 많은 것 같아요. 피자도 화덕에 구워 바로 나온다고 하고, LA갈비도 바로 구워주더라구요. 면요리도 즉석에서 바로바로 해준대요. 초대하는 부모님 하객분들이 좋아하실듯 해요ㅡ 페백도 할 계획인데 폐백실 괜찮은곳 찾기 은근 어렵더라구요 ㅠㅠ 여기는 한옥 느낌으로 폐백실도 잘 되어있고전통 궁중혼례복 입고 사진도 찍어볼수 있다고 해서 선택했습니다.- 제니하우스에서 운영하는 혼주 헤어&메이크업샵이 입점되어 있더라구요. 부모님들은 여기서 헤메 받으시면 편할 것 같아요.ㅡ 그 외에도 양가 집이랑 멀지 않고 채플형 느낌의 단독홀도 마음에 들었고 주차도 편리해서 좋을거 같았습니다   \n",
       "128  저희가 희망했던 예식 날짜가 마침 남아 있었고(덕분에 저희가 처음 사귀게 된 날이 결혼기념일이 될 것 같네요.!), 전체적인 가격대가 저희가 생각한 예산에 부합해서 최종 결정하게 되었습니다~홀은 지하1층에 위치한 그랜드컨벤션 홀과 지상2층에 위치한 파티움홀이 있었고, 홀 투어 당시 두 곳을 모두 보았습니다. 사실 저희는 어두운 홀로 거의 생각을 정리했었기에 밝은 홀인 파티움홀은 큰 기대가 없었는데 막상 보니 생각한 것보다 너무 근사했습니다.꽃장식도 화사한 느낌이었고(이건 바뀔 수 있다 하시지만 항상 밝은 분위기로 꾸며주시는 듯 했습니다) 무엇보다 신부 입장에 맞추어 암막커튼이 걷히면서 자연채광이 들어오는 것이 가장 큰 매력이었어요. 밝은 홀이 아무래도 집중이 분산되는 단점이 있겠다 싶었는데 커튼을 잘 활용하면 충분히 집중도를 높일 수 있겠더라구요. 저희는 결론적으로 이 홀을 선택하지는 않았지만 마지막까지도 고민 많이 했던 것 같아요 ㅠㅠ* 그랜드컨벤션 홀저희가 선택한 그랜드컨벤션 홀은 어두운 홀의 정석인 느낌이고, 층고가 높아 웅장한 느낌도 들었습니다. 저희가 가장 맘에 들었던 부분은 전면부 스크린인데요. 홀투어 다니면서 스크린이 홀 한쪽 벽면에 내려와서 영상을 틀어주는 형태를 많이 보았는데, 그랜드컨벤션 홀은 그런 걱정 없이 전면부 스크린 양 사이드쪽에서 큰 화면으로 식전영상 및 식중영상을 재생할 수 있었답니다. 하객석 어느 자리에서든 스크린이 시원하게 보여서 저희는 너무 만족했던 것 같아요. 식 중간 중간에도 화면이 계속 바뀌면서 식순과 맞는 분위기로 연출되었던 점도 좋았어요.그랜드컨벤션홀 버진로드는 꽤 긴 편이고, 저희가 맘에 들었던 부분은 폭이 넓다는 부분이었어요. 요새는 신랑, 신랑아버지 동시입장, 양가 부모님 동시입장 이런 연출을 많이 하잖아요. 두명이서 나란히 버진로드를 걷는다고 해도 답답해보이는 느낌이 없고 넉넉하게 입장할 수 있겠더라구요. 물론 그랜드컨벤션홀은 전면부 스크린이 열리면서 신랑이 등장하는 방식으로 신랑입장을 연출할 수 있는데요. 많은 신랑 분들이 앞에서 등장하는 방식을 선택하신다고 하더라구요? 아무래도 이 홀만이 가진 특징이니까! 저희도 잘 고민해봐야겠어요 ㅎㅎ지하에 위치해있지만 건물에 들어오자마자 에스컬레이터가 바로 보여서 그대로 내려오면 홀이기 때문에 지하라는 느낌이 전혀 안드는 그랜드컨벤션홀 너무 맘에듭니다.!* 신부대기실더파티움의 신부대기실은 두가지 홀이 모두 웅장해요. 파티움홀을 선택한 신부님들이 사용하는 대기실은 제가 본 예식장 중에 제일 컸어요. 신부대기실에 신부만 있는 것이 아닌 가족들도 함께 대기하면서 신부 긴장을 풀어주는 것이 너무 보기 좋아보였네요(물론 서브 대기실도 꽤 넓게 마련되어 있답니다)저희가 선택한 그랜드컨벤션홀 신부대기실도 층고가 높고 전체적으로 화이트톤을 가지면서 어울리게 장식된 꽃들이 돋보이도록 꾸며져 있었어요. 신부대기실 동선도 좋고 신부대기실 자체가 넓은 편이어서 신부대기실을 찾아주시는 손님들이 대기를 하시게 되더라도 불편함이 전혀 없을 것 같아요.* 연회장연회장은 지하1층에 위치해있어요. 지하1층 그랜드컨벤션 홀을 선택하게 되면 하객분들이 층 이동 없이 바로 연회장을 이용하실 수 있답니다. 연회장에 들어가게 되면 몇시 예식의 하객인지 안내판을 확인하고 왼쪽 혹은 오른쪽으로 안내받게 됩니다. 아예 이동방향이 다르고 식사 공간도 분리되기 때문에 다른 예식과 하객이 겹칠 걱정은 안 되더라구요.저희가 선택할 때 연회장 관련해서 고민했던 부분이 한상+세미뷔페 형태였던 부분이었어요. 근데 직접 보니까 양도 푸짐하고 몇가지 음식을 제외하고는 리필도 가능하다고 하더라구요. 식사를 할 때도 특별히 이동하지 않고 제자리에서 리필을 받는 형식이라는 점에서 예식 후 신랑신부가 인사를 드리러 다닐 때도 하객들이 자리를 비우는 일이 전혀 없겠더라구요. 제가 보러갔을 때에도 하객이 정말 많았는데 세미뷔페 이용인원을 제외하고는 이동하는 사람이 거의 없어서 정신없지 않더라구요. 혼주 및 가족 친지들이 식사하는 공간도 한쪽에 넓게 마련되어 있답니다. 하객으로 방문했던 지인한테 물어보니 밥을 맛있게 먹었던 걸로 기억한다고 하더라구요!? 저희는 하객으로 방문한 적은 없어서 빨리 시식해보고 싶네요 ㅎㅎ   \n",
       "228                                                                                                                                                                                                                                                                                                                                                                                                                                                                                                                                                                                                                                                                                                                                                                                                                                                                                                                                                                                                                                                                                                                                                                                                                                                                                                                                                                                                                                                                                                                                                                                                                               아펠가모로 정하자마자 아페락모 사이트를 먼저 들어가봤습니다.사이트에서 견적을 다 확인 할 수 있어서 다른 예식장에 비해 가격을 투명하게 알 수 있어서더 신뢰가 갔습니다 ㅎㅎㅎㅎ 다른 식장들은 부르는게 값이고 가서 견적받으면 받는 사람마다 다 다르길래 걱정했었는데 사이트에 가격이 다 공개되니 더 좋았던 것 같습니다.홈페이지에서 바로 예약은 가능하지만, 첫 투어라 설명듣고 실제로 식장을 보고싶어서 바로 바로 홀투어 예약했습니다.가자마자 너무 친절하게 맞이해주셔서 너무 기분이 좋아졌고, 첫 방문이여서 하나부터 열까지 세세하게 설명을 들었습니다. 우선 무엇보다 아펠가모는 밥펠가모로 유명하여 연회장에서도 기대만큼 밥들이 맛있어 보였습니다.구경하고 당일예약을 하면 여라가지 혜택을 주신다고 하셨는데 가격+혜택 생각해보면 안 할 이유가 없어저녁에 바로 당일 예약까지 !!집에 갈때 꽃 한송이와 스타벅스 금액권을 주셨는데 너무 감동받았습니다... 뭔가 거길 다녀오면서 하루종일 기분이 좋았던 것 같습니다.   \n",
       "245                                                                                                                                                                                                                                                                                                                                                                                                                                                                                                                                                                                                                                                                                                                                                                                                                                                                                                                                                                                                                                                                                                                                                                                                                                                                                                                                                                                                                                                                                                                                                                                        식을 부천에서 올려야 해 부천 웨딩홀 위주로 알아보았고 후보는 MJ, 삼산체육관웨딩홀, 소풍 웨딩홀 세군데였습니다.저희의 기준은 어두운 홀, 식사 맛, 주차 3가지 였는데, 그 기준에 충족하는 웨딩홀이 소풍 웨딩홀이었어요!소풍웨딩홀은 베일리 홀(밝은 홀), 라온제나 홀(어두운 홀) 관이 2개 였는데 뷔페는 한곳에서 두 홀의 식사를 같이 진행하지만 예식시간이나 하객 식사 시간이 겹치지 않아 그것도 마음에 들었습니다.지난 주에 시식 다녀왔는데 맛도 기대 이상이었고 음식 종류가 지인짜 많아서 놀랐어요!하객 분들 배터지게 드시겠구나 싶었습니다ㅎㅎㅎ그리고 소풍 웨딩홀은 다 마음에 들었는데 백화점과 터미널이 연결되어 있어 주차를 가장 걱정했거든요..그래서 주말 예식 피크타임때 도보와 차량 이용해 다녀와보았는데 주차도 생각보다 금방했고 도보로 갔을 땐 백화점 통해 올라가는데 정문앞에 웨딩홀 직원분이 안내를 해주셔서 어렵지않게 찾아 갈 수 있었어요!본식 한달 남았는데 잘 치르고 또 후기도 남길게요!시식날 사진을 못찍어 아래 사진은 웨딩홀 홈페이지에서 발췌한 사진입니다.   \n",
       "\n",
       "            베뉴 이름  \n",
       "117     아펠가모 광화문점  \n",
       "128  더세인트 그랜드볼룸 홀  \n",
       "228     아펠가모 광화문점  \n",
       "245     부천 소풍 웨딩홀  "
      ]
     },
     "metadata": {},
     "output_type": "display_data"
    }
   ],
   "source": [
    "user_liking = user_liking_list(filtered_df)"
   ]
  },
  {
   "cell_type": "code",
   "execution_count": 26,
   "metadata": {},
   "outputs": [
    {
     "data": {
      "text/html": [
       "<div>\n",
       "<style scoped>\n",
       "    .dataframe tbody tr th:only-of-type {\n",
       "        vertical-align: middle;\n",
       "    }\n",
       "\n",
       "    .dataframe tbody tr th {\n",
       "        vertical-align: top;\n",
       "    }\n",
       "\n",
       "    .dataframe thead th {\n",
       "        text-align: right;\n",
       "    }\n",
       "</style>\n",
       "<table border=\"1\" class=\"dataframe\">\n",
       "  <thead>\n",
       "    <tr style=\"text-align: right;\">\n",
       "      <th></th>\n",
       "      <th>선택 이유</th>\n",
       "      <th>베뉴 이름</th>\n",
       "    </tr>\n",
       "  </thead>\n",
       "  <tbody>\n",
       "    <tr>\n",
       "      <th>53</th>\n",
       "      <td>웨스턴베니비스(신도림)웨딩홀 는 주차와 식사 위치 홀 분위기를 중점적으로 봤습니다. 고급스럽고 클래식한 분위기, 분리예식 웨딩홀이라는 장점과 홀마다 위치가 떨어져 있어서 하객들이 섞일 염려는 없다고 생각했습니다. 주차 같은 경우도 다른 웨딩홀 같은 경우 주차시간이 짧거나 주차공간이 여유롭지 못하여 오는 하객들에게 불편함이 없었으면 좋겠다는 생각이 들었습니다. 전철을 타고 오거나 자차를 타고 와도 2500대 충분한 주차공간, 연회장 안에 메뉴도 130가지 이상 준비 되어 하객들이 맛있게 먹고 갈 수 있는 웨딩홀을 찾았습니다. 제가 느낀 웨스턴베니비스는 식사, 위치, 주차, 견적, 웨딩홀, 신부대기실, 연회장, 폐백실 등 모든 것을 고려했을때 어느 부분 하나 단점이 없는 웨딩홀이라고 느껴서 웨스턴베니비스 웨딩홀 신도림점으로 계약했습니다.</td>\n",
       "      <td>신도림 웨스턴 베니비스</td>\n",
       "    </tr>\n",
       "    <tr>\n",
       "      <th>157</th>\n",
       "      <td>일단 서울 홀투어를 할 예정이라 차를 가져가지 않았었습니다. 지하철역에서 7분정도? 걸어가면 끝에 위치해 있어서 직진만하면 되어서 괜찮겠다 싶었어요. 근데 재밌는건 상담 끝나고 돌아가는길에 지하철역에서 할머님이 호텔이름 핸드폰으로 보여주시면서 어디로 가야하냐구 하시더라구요 ㅎㅎ 아무래도 어르신들은 헷갈리실수 있겠구나 싶었습니다 리버사이드 호텔은 가족들이랑 식사할 때 몇번 가봐서 주차가 발렛 나오는데도 크게 오래걸리지 않았었는데 제가 방문한 일요일 11시임에도 불구하고 골목부터 길까지 쭉 막혀서 기다리면서 차들이 들어오는것을 봤습니다. 아침 11시인데 이렇게 복잡하다구..? 했는데 아무래도 뷔페 이용고객 결혼식 하객들이 합쳐지다보니 딜레이가 좀 있는것 같았습니다. + 대형관광버스들이 가는길목에 3대나 주차가 되어있어 처음오시는 분들은 한참 기다렸다가 나중에 알고 들어가는것 같았어요 상담 들어가선 콘서트홀만 볼생각이라 투어 도와주셨고, 생각보다 신부대기실이 넘 깔끔해서 괜찮다 싶었습니다. 낮은 층고는 어쩔수 없지만 홀내부에 들어가면 나름 높은 천장으로 개방감이 느껴져 괜찮았고 버진로드 길이도 길어보였습니다! 대기실에서 바로 입장이 가능하고, 식사는 한층 내려간 연회장에서 가능합니다. 생중계 되고 있었으나 화질이 크게 좋거나 가까이 있진않았습니다. 식사 컨디션은 그래도 나름 배부르게 드시고 가시겠구나 싶었습니다. 가든뷔페랑 웨딩이랑은 조금 다르게 운영된다고 하더라구요 연회장사진은 하객들이 있어 혼주 좌석으로 찍었습니다~ 견적도 합리적이고 발렛주차만 감당 가능하신분들에겐 괜찮은 베뉴일것 같습니다~! *타인의 이미지, 글 무단 사용 및 도용 금지 *타인의 이미지, 컨텐츠를 사용할 때는 꼭 출처를 명시해주세요. *정보 공개를 원치 않으시면 꼭 멤버 공개로 설정해 주세요.</td>\n",
       "      <td>신도림 웨스턴 베니비스</td>\n",
       "    </tr>\n",
       "  </tbody>\n",
       "</table>\n",
       "</div>"
      ],
      "text/plain": [
       "                                                                                                                                                                                                                                                                                                                                                                                                                                                                                                                                                                                                                                                                                                                                                                                                                                                                                                                      선택 이유  \\\n",
       "53                                                                                                                                                                                                                                                                                                                                                                                                                                                                                          웨스턴베니비스(신도림)웨딩홀 는 주차와 식사 위치 홀 분위기를 중점적으로 봤습니다. 고급스럽고 클래식한 분위기, 분리예식 웨딩홀이라는 장점과 홀마다 위치가 떨어져 있어서 하객들이 섞일 염려는 없다고 생각했습니다. 주차 같은 경우도 다른 웨딩홀 같은 경우 주차시간이 짧거나 주차공간이 여유롭지 못하여 오는 하객들에게 불편함이 없었으면 좋겠다는 생각이 들었습니다. 전철을 타고 오거나 자차를 타고 와도 2500대 충분한 주차공간, 연회장 안에 메뉴도 130가지 이상 준비 되어 하객들이 맛있게 먹고 갈 수 있는 웨딩홀을 찾았습니다. 제가 느낀 웨스턴베니비스는 식사, 위치, 주차, 견적, 웨딩홀, 신부대기실, 연회장, 폐백실 등 모든 것을 고려했을때 어느 부분 하나 단점이 없는 웨딩홀이라고 느껴서 웨스턴베니비스 웨딩홀 신도림점으로 계약했습니다.   \n",
       "157  일단 서울 홀투어를 할 예정이라 차를 가져가지 않았었습니다. 지하철역에서 7분정도? 걸어가면 끝에 위치해 있어서 직진만하면 되어서 괜찮겠다 싶었어요. 근데 재밌는건 상담 끝나고 돌아가는길에 지하철역에서 할머님이 호텔이름 핸드폰으로 보여주시면서 어디로 가야하냐구 하시더라구요 ㅎㅎ 아무래도 어르신들은 헷갈리실수 있겠구나 싶었습니다 리버사이드 호텔은 가족들이랑 식사할 때 몇번 가봐서 주차가 발렛 나오는데도 크게 오래걸리지 않았었는데 제가 방문한 일요일 11시임에도 불구하고 골목부터 길까지 쭉 막혀서 기다리면서 차들이 들어오는것을 봤습니다. 아침 11시인데 이렇게 복잡하다구..? 했는데 아무래도 뷔페 이용고객 결혼식 하객들이 합쳐지다보니 딜레이가 좀 있는것 같았습니다. + 대형관광버스들이 가는길목에 3대나 주차가 되어있어 처음오시는 분들은 한참 기다렸다가 나중에 알고 들어가는것 같았어요 상담 들어가선 콘서트홀만 볼생각이라 투어 도와주셨고, 생각보다 신부대기실이 넘 깔끔해서 괜찮다 싶었습니다. 낮은 층고는 어쩔수 없지만 홀내부에 들어가면 나름 높은 천장으로 개방감이 느껴져 괜찮았고 버진로드 길이도 길어보였습니다! 대기실에서 바로 입장이 가능하고, 식사는 한층 내려간 연회장에서 가능합니다. 생중계 되고 있었으나 화질이 크게 좋거나 가까이 있진않았습니다. 식사 컨디션은 그래도 나름 배부르게 드시고 가시겠구나 싶었습니다. 가든뷔페랑 웨딩이랑은 조금 다르게 운영된다고 하더라구요 연회장사진은 하객들이 있어 혼주 좌석으로 찍었습니다~ 견적도 합리적이고 발렛주차만 감당 가능하신분들에겐 괜찮은 베뉴일것 같습니다~! *타인의 이미지, 글 무단 사용 및 도용 금지 *타인의 이미지, 컨텐츠를 사용할 때는 꼭 출처를 명시해주세요. *정보 공개를 원치 않으시면 꼭 멤버 공개로 설정해 주세요.   \n",
       "\n",
       "            베뉴 이름  \n",
       "53   신도림 웨스턴 베니비스  \n",
       "157  신도림 웨스턴 베니비스  "
      ]
     },
     "metadata": {},
     "output_type": "display_data"
    }
   ],
   "source": [
    "inference_liking = user_liking_list(infer_filtered_df)"
   ]
  },
  {
   "cell_type": "markdown",
   "metadata": {},
   "source": [
    "# 평가지표"
   ]
  },
  {
   "cell_type": "code",
   "execution_count": 27,
   "metadata": {},
   "outputs": [],
   "source": [
    "import numpy as np\n",
    "import matplotlib.pyplot as plt\n",
    "\n",
    "# Evaluation metrics functions\n",
    "def precision_at_k(recommended, relevant, k):\n",
    "    recommended_k = recommended[:k]\n",
    "    hits = set(recommended_k) & set(relevant)\n",
    "    return len(hits) / k if k > 0 else 0\n",
    "\n",
    "def recall_at_k(recommended, relevant, k):\n",
    "    if not relevant:\n",
    "        return 0\n",
    "    recommended_k = recommended[:k]\n",
    "    hits = set(recommended_k) & set(relevant)\n",
    "    return len(hits) / len(relevant)\n",
    "\n",
    "def ndcg_at_k(recommended, relevant, k):\n",
    "    recommended_k = recommended[:k]\n",
    "    dcg = sum([1 / np.log2(idx + 2) for idx, item in enumerate(recommended_k) if item in relevant])\n",
    "    idcg = sum([1 / np.log2(idx + 2) for idx in range(min(len(relevant), k))])\n",
    "    return dcg / idcg if idcg > 0 else 0\n",
    "\n",
    "def hit_rate_at_k(recommended, relevant, k):\n",
    "    recommended_k = recommended[:k]\n",
    "    return int(bool(set(recommended_k) & set(relevant)))\n",
    "\n",
    "def mrr_at_k(recommended, relevant, k):\n",
    "    for idx, item in enumerate(recommended[:k]):\n",
    "        if item in relevant:\n",
    "            return 1 / (idx + 1)\n",
    "    return 0\n"
   ]
  },
  {
   "cell_type": "code",
   "execution_count": 28,
   "metadata": {},
   "outputs": [],
   "source": [
    "# Visualization of evaluation metrics\n",
    "def plot_evaluation_metrics(recommended, relevant, max_k=5):\n",
    "    k_values = range(1, max_k + 1)\n",
    "    precision_scores = [precision_at_k(recommended, relevant, k) for k in k_values]\n",
    "    recall_scores = [recall_at_k(recommended, relevant, k) for k in k_values]\n",
    "    ndcg_scores = [ndcg_at_k(recommended, relevant, k) for k in k_values]\n",
    "    hit_rate_scores = [hit_rate_at_k(recommended, relevant, k) for k in k_values]\n",
    "    mrr_scores = [mrr_at_k(recommended, relevant, k) for k in k_values]\n",
    "\n",
    "    plt.figure(figsize=(10, 6))\n",
    "    plt.plot(k_values, precision_scores, marker='o', label='Precision@K')\n",
    "    plt.plot(k_values, recall_scores, marker='o', label='Recall@K')\n",
    "    plt.plot(k_values, ndcg_scores, marker='o', label='NDCG@K')\n",
    "    plt.plot(k_values, hit_rate_scores, marker='o', label='Hit Rate@K')\n",
    "    plt.plot(k_values, mrr_scores, marker='o', label='MRR@K')\n",
    "\n",
    "    plt.xlabel('K')\n",
    "    plt.ylabel('Score')\n",
    "    plt.title('Evaluation Metrics for Top-K Recommendations')\n",
    "    plt.legend(loc='best')\n",
    "    plt.grid(True)\n",
    "    plt.tight_layout()\n",
    "    plt.show()\n"
   ]
  },
  {
   "cell_type": "code",
   "execution_count": 29,
   "metadata": {},
   "outputs": [
    {
     "data": {
      "image/png": "[encoded data removed]",
      "text/plain": [
       "<Figure size 1000x600 with 1 Axes>"
      ]
     },
     "metadata": {},
     "output_type": "display_data"
    }
   ],
   "source": [
    "\n",
    "# Example usage\n",
    "plot_evaluation_metrics(recommended_items, user_sequence, max_k=5)"
   ]
  },
  {
   "cell_type": "code",
   "execution_count": 30,
   "metadata": {},
   "outputs": [
    {
     "data": {
      "image/png": "[encoded data removed]",
      "text/plain": [
       "<Figure size 500x500 with 2 Axes>"
      ]
     },
     "metadata": {},
     "output_type": "display_data"
    }
   ],
   "source": [
    "from sklearn.metrics.pairwise import cosine_similarity\n",
    "import matplotlib.pyplot as plt\n",
    "import seaborn as sns\n",
    "\n",
    "# 문장을 BERT 임베딩으로 변환하는 함수\n",
    "def get_embeddings(texts, model, tokenizer):\n",
    "    inputs = tokenizer(texts, padding=True, truncation=True, return_tensors=\"pt\")\n",
    "    with torch.no_grad():\n",
    "        outputs = model(**inputs)\n",
    "    embeddings = outputs.last_hidden_state[:, 0, :]\n",
    "    return embeddings\n",
    "\n",
    "# 예측 리뷰와 실제 리뷰 간의 유사도 계산 함수\n",
    "def calculate_similarity(filtered_reviews, rec_result, model, tokenizer):\n",
    "    \n",
    "    # 예측 리뷰 임베딩 계산\n",
    "    predicted_reviews = filtered_reviews['선택 이유'][:3].tolist() # 3개\n",
    "    predicted_embeddings = get_embeddings(predicted_reviews, model, tokenizer)\n",
    "    \n",
    "    # 실제 리뷰를 rec_df의 'label' 열에서 가져와 임베딩 계산\n",
    "    # actual_reviews = rec_result['장점'][2:].tolist() # 8개\n",
    "    actual_embeddings = get_embeddings(recommended_items, model, tokenizer)\n",
    "    \n",
    "    # 코사인 유사도를 이용하여 두 임베딩 간 유사도 계산\n",
    "    similarities = cosine_similarity(predicted_embeddings, actual_embeddings)\n",
    "    return similarities\n",
    "\n",
    "\n",
    "# BERT 모델과 토크나이저 로드 (사전 학습된 모델 사용)\n",
    "from transformers import AutoModel, AutoTokenizer\n",
    "model_name = \"bert-base-multilingual-cased\"  # 예시 모델\n",
    "model = AutoModel.from_pretrained(model_name)\n",
    "tokenizer = AutoTokenizer.from_pretrained(model_name)\n",
    "\n",
    "# 유사도 계산\n",
    "similarity_matrix = calculate_similarity(filtered_reviews, recommended_items, model, tokenizer)\n",
    "\n",
    "\n",
    "# 유사도 행렬을 시각화하는 함수\n",
    "def visualize_similarity(similarity_matrix):\n",
    "    plt.figure(figsize=(5, 5))\n",
    "    sns.heatmap(similarity_matrix, annot=True, fmt=\".2f\", cmap=\"coolwarm\", cbar=True, vmin=0.78, vmax=0.96)\n",
    "    plt.xlabel(\"Actual Reviews\")\n",
    "    plt.ylabel(\"Predicted Reviews\")\n",
    "    plt.title(\"Similarity between Predicted and Actual Reviews\")\n",
    "    plt.show()\n",
    "\n",
    "# 시각화 호출\n",
    "visualize_similarity(similarity_matrix)"
   ]
  },
  {
   "cell_type": "code",
   "execution_count": null,
   "metadata": {},
   "outputs": [],
   "source": []
  }
 ],
 "metadata": {
  "accelerator": "GPU",
  "colab": {
   "gpuType": "T4",
   "provenance": []
  },
  "kernelspec": {
   "display_name": "torch2.3.0-py3.11-cuda12.1",
   "language": "python",
   "name": "python3"
  },
  "language_info": {
   "codemirror_mode": {
    "name": "ipython",
    "version": 3
   },
   "file_extension": ".py",
   "mimetype": "text/x-python",
   "name": "python",
   "nbconvert_exporter": "python",
   "pygments_lexer": "ipython3",
   "version": "3.11.0rc1"
  }
 },
 "nbformat": 4,
 "nbformat_minor": 0
}
