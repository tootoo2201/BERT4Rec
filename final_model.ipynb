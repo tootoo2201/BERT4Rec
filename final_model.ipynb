{
 "cells": [
  {
   "cell_type": "code",
   "execution_count": 1,
   "metadata": {
    "colab": {
     "base_uri": "https://localhost:8080/"
    },
    "executionInfo": {
     "elapsed": 4,
     "status": "ok",
     "timestamp": 1729520346450,
     "user": {
      "displayName": "이유진",
      "userId": "10989976370749247256"
     },
     "user_tz": -540
    },
    "id": "5ndN1lpfyIvR",
    "outputId": "6773b520-3e37-421e-cef3-11d720fafe40"
   },
   "outputs": [
    {
     "name": "stdout",
     "output_type": "stream",
     "text": [
      "/home/jovyan/59min/model\n"
     ]
    }
   ],
   "source": [
    "import os\n",
    "print(os.getcwd())"
   ]
  },
  {
   "cell_type": "code",
   "execution_count": 2,
   "metadata": {},
   "outputs": [],
   "source": [
    "#!pip install torch==2.5.0+cu121 torchaudio==2.5.0+cu121 torchvision==0.20.0+cu121 -f https://download.pytorch.org/whl/torch_stable.html\n",
    "#!pip install transformers\n",
    "#!pip install openpyxl\n",
    "#!pip install rank-bm25"
   ]
  },
  {
   "cell_type": "code",
   "execution_count": 3,
   "metadata": {},
   "outputs": [],
   "source": [
    "from transformers import BertTokenizer\n",
    "import random\n",
    "import pandas as pd\n",
    "import torch\n",
    "import torch.nn as nn\n",
    "from torch.utils.data import Dataset, DataLoader\n",
    "import openpyxl\n",
    "import ast\n",
    "import torch.optim as optim"
   ]
  },
  {
   "cell_type": "markdown",
   "metadata": {},
   "source": [
    "# 데이터 준비"
   ]
  },
  {
   "cell_type": "markdown",
   "metadata": {},
   "source": [
    "## Dataset 1: 키워드화 된 데이터셋 가져오기"
   ]
  },
  {
   "cell_type": "code",
   "execution_count": 4,
   "metadata": {
    "colab": {
     "base_uri": "https://localhost:8080/"
    },
    "executionInfo": {
     "elapsed": 4,
     "status": "ok",
     "timestamp": 1729520349207,
     "user": {
      "displayName": "이유진",
      "userId": "10989976370749247256"
     },
     "user_tz": -540
    },
    "id": "yJifxqi7sPkx",
    "outputId": "3706d334-1e46-46b2-e420-22918cb9aefe"
   },
   "outputs": [],
   "source": [
    "# 엑셀 파일 불러오기\n",
    "file_path_full = '/home/jovyan/59min/Bert4Rec/Performance_evaluation_dataset/Korea_full_sentence.xlsx'  # 파일 경로\n",
    "\n",
    "df_full = pd.read_excel(file_path_full)"
   ]
  },
  {
   "cell_type": "code",
   "execution_count": 5,
   "metadata": {},
   "outputs": [],
   "source": [
    "df_full = df_full.rename(columns={'keywords':'label'})"
   ]
  },
  {
   "cell_type": "code",
   "execution_count": 6,
   "metadata": {
    "colab": {
     "base_uri": "https://localhost:8080/"
    },
    "executionInfo": {
     "elapsed": 3,
     "status": "ok",
     "timestamp": 1729520349207,
     "user": {
      "displayName": "이유진",
      "userId": "10989976370749247256"
     },
     "user_tz": -540
    },
    "id": "1RDKgDf7tWT9",
    "outputId": "8592bbea-600a-4cff-dc9f-8ec1897ed12a"
   },
   "outputs": [],
   "source": [
    "# 엑셀 파일 불러오기\n",
    "file_path_user_sequence= '/home/jovyan/59min/model/user_sequence_ko.xlsx'  # 파일 경로\n",
    "df_seq = pd.read_excel(file_path_user_sequence)\n",
    "\n",
    "df_seq = df_seq.drop(columns=['Unnamed: 0'])"
   ]
  },
  {
   "cell_type": "code",
   "execution_count": 7,
   "metadata": {},
   "outputs": [
    {
     "data": {
      "text/html": [
       "<div>\n",
       "<style scoped>\n",
       "    .dataframe tbody tr th:only-of-type {\n",
       "        vertical-align: middle;\n",
       "    }\n",
       "\n",
       "    .dataframe tbody tr th {\n",
       "        vertical-align: top;\n",
       "    }\n",
       "\n",
       "    .dataframe thead th {\n",
       "        text-align: right;\n",
       "    }\n",
       "</style>\n",
       "<table border=\"1\" class=\"dataframe\">\n",
       "  <thead>\n",
       "    <tr style=\"text-align: right;\">\n",
       "      <th></th>\n",
       "      <th>선택 이유</th>\n",
       "      <th>베뉴 이름</th>\n",
       "    </tr>\n",
       "  </thead>\n",
       "  <tbody>\n",
       "    <tr>\n",
       "      <th>0</th>\n",
       "      <td>홀 내부- 단독홀로 타 하객들과 섞이지 않고 비교적 넉넉한 시간동안 이용할 수 있다...</td>\n",
       "      <td>빌라드지디 수서</td>\n",
       "    </tr>\n",
       "    <tr>\n",
       "      <th>1</th>\n",
       "      <td>저희 커플이 홀 선택 시 고려했던 점은 예쁜 홀 + 맛있는 식사였습니다.(1) 홀 ...</td>\n",
       "      <td>더링크호텔 가든홀</td>\n",
       "    </tr>\n",
       "    <tr>\n",
       "      <th>2</th>\n",
       "      <td>인천에서 가장 많이 한다는 네임밸류, 검증된 식사 퀄리티 결정적으로 신부가 홀에 마...</td>\n",
       "      <td>메리빌리아 셀레스메리홀</td>\n",
       "    </tr>\n",
       "    <tr>\n",
       "      <th>3</th>\n",
       "      <td>밝은홀의 장점과 어두운 홀의 장점 모두 아우르고 있는것 같아서 선택! ( 자세한 사...</td>\n",
       "      <td>노블발렌티 삼성점</td>\n",
       "    </tr>\n",
       "    <tr>\n",
       "      <th>4</th>\n",
       "      <td>저희가 보증인원 100-150명이 가능한 홀을 찾다보니 옵션이 많이 않았습니다.소규...</td>\n",
       "      <td>국방 컨벤션</td>\n",
       "    </tr>\n",
       "    <tr>\n",
       "      <th>...</th>\n",
       "      <td>...</td>\n",
       "      <td>...</td>\n",
       "    </tr>\n",
       "    <tr>\n",
       "      <th>292</th>\n",
       "      <td>사랑스러운 분위기의 홀이 제일 먼저 눈에 들어왔어요- 하객의자가 예쁘고 숲속느낌이 ...</td>\n",
       "      <td>수원 파티움 하우스</td>\n",
       "    </tr>\n",
       "    <tr>\n",
       "      <th>293</th>\n",
       "      <td>몇 번 하객으로 왔던 경험 상 무난하다고 생각했고, 식장과 음식 퀄리티는 보장된다고...</td>\n",
       "      <td>신도림 라마다 5층 세인트그레이스홀</td>\n",
       "    </tr>\n",
       "    <tr>\n",
       "      <th>294</th>\n",
       "      <td>저희는 우선 하객들에게 식사를 대접하는 예식을 가장 우선으로 꼽아서 플래너님에게도 ...</td>\n",
       "      <td>웨딩여율리</td>\n",
       "    </tr>\n",
       "    <tr>\n",
       "      <th>295</th>\n",
       "      <td>강남에 위치한 채플형 웨딩홀을 원했기 때문에 아펠가모 2곳 (선릉, 반포) + 더채...</td>\n",
       "      <td>더채플앳논현 라메르홀</td>\n",
       "    </tr>\n",
       "    <tr>\n",
       "      <th>296</th>\n",
       "      <td>식사와 교통</td>\n",
       "      <td>양재AT포레</td>\n",
       "    </tr>\n",
       "  </tbody>\n",
       "</table>\n",
       "<p>297 rows × 2 columns</p>\n",
       "</div>"
      ],
      "text/plain": [
       "                                                 선택 이유                베뉴 이름\n",
       "0    홀 내부- 단독홀로 타 하객들과 섞이지 않고 비교적 넉넉한 시간동안 이용할 수 있다...             빌라드지디 수서\n",
       "1    저희 커플이 홀 선택 시 고려했던 점은 예쁜 홀 + 맛있는 식사였습니다.(1) 홀 ...            더링크호텔 가든홀\n",
       "2    인천에서 가장 많이 한다는 네임밸류, 검증된 식사 퀄리티 결정적으로 신부가 홀에 마...         메리빌리아 셀레스메리홀\n",
       "3    밝은홀의 장점과 어두운 홀의 장점 모두 아우르고 있는것 같아서 선택! ( 자세한 사...            노블발렌티 삼성점\n",
       "4    저희가 보증인원 100-150명이 가능한 홀을 찾다보니 옵션이 많이 않았습니다.소규...               국방 컨벤션\n",
       "..                                                 ...                  ...\n",
       "292  사랑스러운 분위기의 홀이 제일 먼저 눈에 들어왔어요- 하객의자가 예쁘고 숲속느낌이 ...           수원 파티움 하우스\n",
       "293  몇 번 하객으로 왔던 경험 상 무난하다고 생각했고, 식장과 음식 퀄리티는 보장된다고...  신도림 라마다 5층 세인트그레이스홀\n",
       "294  저희는 우선 하객들에게 식사를 대접하는 예식을 가장 우선으로 꼽아서 플래너님에게도 ...                웨딩여율리\n",
       "295  강남에 위치한 채플형 웨딩홀을 원했기 때문에 아펠가모 2곳 (선릉, 반포) + 더채...          더채플앳논현 라메르홀\n",
       "296                                             식사와 교통               양재AT포레\n",
       "\n",
       "[297 rows x 2 columns]"
      ]
     },
     "execution_count": 7,
     "metadata": {},
     "output_type": "execute_result"
    }
   ],
   "source": [
    "df_full"
   ]
  },
  {
   "cell_type": "code",
   "execution_count": 8,
   "metadata": {},
   "outputs": [
    {
     "data": {
      "text/html": [
       "<div>\n",
       "<style scoped>\n",
       "    .dataframe tbody tr th:only-of-type {\n",
       "        vertical-align: middle;\n",
       "    }\n",
       "\n",
       "    .dataframe tbody tr th {\n",
       "        vertical-align: top;\n",
       "    }\n",
       "\n",
       "    .dataframe thead th {\n",
       "        text-align: right;\n",
       "    }\n",
       "</style>\n",
       "<table border=\"1\" class=\"dataframe\">\n",
       "  <thead>\n",
       "    <tr style=\"text-align: right;\">\n",
       "      <th></th>\n",
       "      <th>user_id</th>\n",
       "      <th>list</th>\n",
       "      <th>keyword</th>\n",
       "    </tr>\n",
       "  </thead>\n",
       "  <tbody>\n",
       "    <tr>\n",
       "      <th>0</th>\n",
       "      <td>0</td>\n",
       "      <td>['국방 컨벤션', '빌라드지디 수서', '라비두스', '시그니엘', '신도림 더 ...</td>\n",
       "      <td>예쁜 홀</td>\n",
       "    </tr>\n",
       "    <tr>\n",
       "      <th>1</th>\n",
       "      <td>1</td>\n",
       "      <td>['더링크호텔', '더컨벤션 신사']</td>\n",
       "      <td>예쁜 홀</td>\n",
       "    </tr>\n",
       "    <tr>\n",
       "      <th>2</th>\n",
       "      <td>2</td>\n",
       "      <td>['더링크호텔 가든홀', '더마레보호텔&amp;웨딩', '아펠가모 선릉']</td>\n",
       "      <td>예쁜 홀</td>\n",
       "    </tr>\n",
       "    <tr>\n",
       "      <th>3</th>\n",
       "      <td>3</td>\n",
       "      <td>['노블발렌티 삼성', '양재 엘블레스', '잠실 아펠가모 웨딩홀', '구로 지타워...</td>\n",
       "      <td>예쁜 홀</td>\n",
       "    </tr>\n",
       "    <tr>\n",
       "      <th>4</th>\n",
       "      <td>4</td>\n",
       "      <td>['신도림 테크노마트 웨딩시티', '서울대 이라운지', '♥ 노블발렌티 삼성점']</td>\n",
       "      <td>예쁜 홀</td>\n",
       "    </tr>\n",
       "    <tr>\n",
       "      <th>...</th>\n",
       "      <td>...</td>\n",
       "      <td>...</td>\n",
       "      <td>...</td>\n",
       "    </tr>\n",
       "    <tr>\n",
       "      <th>645</th>\n",
       "      <td>645</td>\n",
       "      <td>['노블발렌티 삼성역점', '노블발렌티 삼성']</td>\n",
       "      <td>신부 대기</td>\n",
       "    </tr>\n",
       "    <tr>\n",
       "      <th>646</th>\n",
       "      <td>646</td>\n",
       "      <td>['국방 컨벤션', '루벨 강동']</td>\n",
       "      <td>신부 대기</td>\n",
       "    </tr>\n",
       "    <tr>\n",
       "      <th>647</th>\n",
       "      <td>647</td>\n",
       "      <td>['크레스트72 글라스홀', '양재 엘타워 그랜드홀']</td>\n",
       "      <td>신부 대기</td>\n",
       "    </tr>\n",
       "    <tr>\n",
       "      <th>648</th>\n",
       "      <td>648</td>\n",
       "      <td>['양재 엘타워 그랜드홀', '노블발렌티 삼성', '더파티움 안양(구 아르떼)', ...</td>\n",
       "      <td>신부 대기</td>\n",
       "    </tr>\n",
       "    <tr>\n",
       "      <th>649</th>\n",
       "      <td>649</td>\n",
       "      <td>['루벨 강동', '양재 엘타워 그랜드홀', '비렌티 웨딩홀', '신도림 테크노마트...</td>\n",
       "      <td>신부 대기</td>\n",
       "    </tr>\n",
       "  </tbody>\n",
       "</table>\n",
       "<p>650 rows × 3 columns</p>\n",
       "</div>"
      ],
      "text/plain": [
       "     user_id                                               list keyword\n",
       "0          0  ['국방 컨벤션', '빌라드지디 수서', '라비두스', '시그니엘', '신도림 더 ...    예쁜 홀\n",
       "1          1                               ['더링크호텔', '더컨벤션 신사']    예쁜 홀\n",
       "2          2              ['더링크호텔 가든홀', '더마레보호텔&웨딩', '아펠가모 선릉']    예쁜 홀\n",
       "3          3  ['노블발렌티 삼성', '양재 엘블레스', '잠실 아펠가모 웨딩홀', '구로 지타워...    예쁜 홀\n",
       "4          4      ['신도림 테크노마트 웨딩시티', '서울대 이라운지', '♥ 노블발렌티 삼성점']    예쁜 홀\n",
       "..       ...                                                ...     ...\n",
       "645      645                         ['노블발렌티 삼성역점', '노블발렌티 삼성']   신부 대기\n",
       "646      646                                ['국방 컨벤션', '루벨 강동']   신부 대기\n",
       "647      647                     ['크레스트72 글라스홀', '양재 엘타워 그랜드홀']   신부 대기\n",
       "648      648  ['양재 엘타워 그랜드홀', '노블발렌티 삼성', '더파티움 안양(구 아르떼)', ...   신부 대기\n",
       "649      649  ['루벨 강동', '양재 엘타워 그랜드홀', '비렌티 웨딩홀', '신도림 테크노마트...   신부 대기\n",
       "\n",
       "[650 rows x 3 columns]"
      ]
     },
     "execution_count": 8,
     "metadata": {},
     "output_type": "execute_result"
    }
   ],
   "source": [
    "df_seq"
   ]
  },
  {
   "cell_type": "markdown",
   "metadata": {},
   "source": [
    "# Bert4Rec 학습"
   ]
  },
  {
   "cell_type": "code",
   "execution_count": 9,
   "metadata": {},
   "outputs": [],
   "source": [
    "# # venue_data 생성\n",
    "# venue_data = {}\n",
    "# for _, row in df_full.iterrows():\n",
    "#     venue_data[row['베뉴 이름']] = {\n",
    "#         \"선택 이유\": row['선택 이유']\n",
    "#     }\n",
    "\n",
    "# user_sequences = df_seq['list']\n"
   ]
  },
  {
   "cell_type": "code",
   "execution_count": 10,
   "metadata": {
    "colab": {
     "base_uri": "https://localhost:8080/"
    },
    "executionInfo": {
     "elapsed": 785,
     "status": "ok",
     "timestamp": 1729520349990,
     "user": {
      "displayName": "이유진",
      "userId": "10989976370749247256"
     },
     "user_tz": -540
    },
    "id": "CBXwSVnVt_8j",
    "outputId": "b3ac2c19-8e63-4427-fffa-2532567fb2a7"
   },
   "outputs": [],
   "source": [
    "class BERT4RecDataset(Dataset):\n",
    "    def __init__(self, data, max_seq_len=10, mask_prob=0.15):\n",
    "        self.user_sequences = data['list'].apply(ast.literal_eval)  # 시퀀스를 리스트 형태로 변환\n",
    "        self.mask_prob = mask_prob\n",
    "        self.max_seq_len = max_seq_len\n",
    "        self.venue_names = list(set([venue for seq in self.user_sequences for venue in seq]))  # 모든 venue 리스트화\n",
    "        self.vocab_size = len(self.venue_names)\n",
    "        self.data = self.prepare_data()\n",
    "\n",
    "    def prepare_data(self):\n",
    "        data = []\n",
    "        for seq in self.user_sequences:\n",
    "            indexed_seq = []\n",
    "            for item in seq:\n",
    "                if item in self.venue_names:\n",
    "                    indexed_seq.append(self.venue_names.index(item))\n",
    "                else:\n",
    "                    print(f\"Warning: {item} is not in venue_names, replacing with [UNK]\")\n",
    "                    indexed_seq.append(self.vocab_size - 1)  # [UNK] 토큰으로 대체\n",
    "\n",
    "            # 패딩 또는 잘라내기\n",
    "            if len(indexed_seq) < self.max_seq_len:\n",
    "                indexed_seq = [0] * (self.max_seq_len - len(indexed_seq)) + indexed_seq  # 패딩\n",
    "            else:\n",
    "                indexed_seq = indexed_seq[:self.max_seq_len]\n",
    "            data.append(indexed_seq)\n",
    "        return data\n",
    "\n",
    "    def __len__(self):\n",
    "        return len(self.data)\n",
    "\n",
    "    def __getitem__(self, idx):\n",
    "        seq = self.data[idx]\n",
    "        input_ids = torch.tensor(seq, dtype=torch.long)\n",
    "        labels = torch.tensor(seq, dtype=torch.long)\n",
    "        masked_input = input_ids.clone()\n",
    "        mask = torch.zeros_like(input_ids, dtype=torch.bool)\n",
    "\n",
    "        # 마스킹 로직\n",
    "        for i in range(len(seq)):\n",
    "            if random.random() < self.mask_prob:\n",
    "                mask[i] = True\n",
    "                prob = random.random()\n",
    "                if prob < 0.8:\n",
    "                    masked_input[i] = self.vocab_size - 1  # 마스킹 토큰 추가\n",
    "                elif prob < 0.9:\n",
    "                    masked_input[i] = random.choice(list(range(self.vocab_size)))  # 랜덤하게 다른 토큰 선택\n",
    "\n",
    "        return masked_input, labels, mask\n"
   ]
  },
  {
   "cell_type": "code",
   "execution_count": 11,
   "metadata": {
    "executionInfo": {
     "elapsed": 3,
     "status": "ok",
     "timestamp": 1729520349990,
     "user": {
      "displayName": "이유진",
      "userId": "10989976370749247256"
     },
     "user_tz": -540
    },
    "id": "woAdnL7euILi"
   },
   "outputs": [],
   "source": [
    "# BERT4Rec 모델 정의 (간단화된 BERT 구조)\n",
    "class BERT4RecModel(nn.Module):\n",
    "    def __init__(self, vocab_size, embed_dim=64, num_heads=4, num_layers=2, max_seq_len=10, dropout=0.1):\n",
    "        super(BERT4RecModel, self).__init__()\n",
    "        self.token_embedding = nn.Embedding(vocab_size, embed_dim, padding_idx=0)\n",
    "        self.position_embedding = nn.Embedding(max_seq_len, embed_dim)\n",
    "        encoder_layer = nn.TransformerEncoderLayer(d_model=embed_dim, nhead=num_heads, dropout=dropout)\n",
    "        self.transformer_encoder = nn.TransformerEncoder(encoder_layer, num_layers=num_layers)\n",
    "        self.fc = nn.Linear(embed_dim, vocab_size)\n",
    "\n",
    "    def forward(self, input_ids):\n",
    "        positions = torch.arange(0, input_ids.size(1)).unsqueeze(0).to(input_ids.device)\n",
    "        x = self.token_embedding(input_ids) + self.position_embedding(positions)\n",
    "        x = x.transpose(0, 1)\n",
    "        x = self.transformer_encoder(x)\n",
    "        x = x.transpose(0, 1)\n",
    "        logits = self.fc(x)\n",
    "        return logits"
   ]
  },
  {
   "cell_type": "code",
   "execution_count": 12,
   "metadata": {},
   "outputs": [
    {
     "name": "stderr",
     "output_type": "stream",
     "text": [
      "/home/jovyan/.venv/torch2.3.0-py3.11-cuda12.1/lib/python3.11/site-packages/torch/nn/modules/transformer.py:306: UserWarning: enable_nested_tensor is True, but self.use_nested_tensor is False because encoder_layer.self_attn.batch_first was not True(use batch_first for better inference performance)\n",
      "  warnings.warn(f\"enable_nested_tensor is True, but self.use_nested_tensor is False because {why_not_sparsity_fast_path}\")\n"
     ]
    }
   ],
   "source": [
    "# 데이터셋 로드 및 DataLoader 설정\n",
    "dataset = BERT4RecDataset(df_seq)  # user_sequences_df: 유저 시퀀스가 포함된 데이터프레임\n",
    "dataloader = DataLoader(dataset, batch_size=16, shuffle=True)\n",
    "\n",
    "# 모델 초기화\n",
    "vocab_size = len(dataset.venue_names)\n",
    "model = BERT4RecModel(vocab_size=vocab_size)\n",
    "\n",
    "# 손실 함수 및 옵티마이저 설정\n",
    "criterion = nn.CrossEntropyLoss(ignore_index=0)\n",
    "optimizer = optim.Adam(model.parameters(), lr=1e-3)"
   ]
  },
  {
   "cell_type": "code",
   "execution_count": 13,
   "metadata": {
    "colab": {
     "base_uri": "https://localhost:8080/"
    },
    "executionInfo": {
     "elapsed": 4,
     "status": "ok",
     "timestamp": 1729520349991,
     "user": {
      "displayName": "이유진",
      "userId": "10989976370749247256"
     },
     "user_tz": -540
    },
    "id": "wCIXX11NuLIX",
    "outputId": "74648507-d3ed-4bfe-f526-4859a6071936"
   },
   "outputs": [
    {
     "name": "stdout",
     "output_type": "stream",
     "text": [
      "Epoch 1, Loss: 3.2894\n",
      "Epoch 2, Loss: 1.5830\n",
      "Epoch 3, Loss: 1.0654\n",
      "Epoch 4, Loss: 0.9093\n",
      "Epoch 5, Loss: 0.8349\n",
      "Epoch 6, Loss: 0.8007\n",
      "Epoch 7, Loss: 0.7909\n",
      "Epoch 8, Loss: 0.7819\n",
      "Epoch 9, Loss: 0.7060\n",
      "Epoch 10, Loss: 0.7167\n",
      "Epoch 11, Loss: 0.7416\n",
      "Epoch 12, Loss: 0.6707\n",
      "Epoch 13, Loss: 0.7083\n",
      "Epoch 14, Loss: 0.6492\n",
      "Epoch 15, Loss: 0.6984\n"
     ]
    }
   ],
   "source": [
    "# 모델 학습 루프\n",
    "model.train()\n",
    "for epoch in range(15):  # 예시로 15번의 epoch\n",
    "    total_loss = 0\n",
    "    for batch in dataloader:\n",
    "        input_ids, labels, masks = batch\n",
    "        optimizer.zero_grad()\n",
    "        logits = model(input_ids)\n",
    "        logits = logits.view(-1, vocab_size)\n",
    "        labels = labels.view(-1)\n",
    "        loss = criterion(logits, labels)\n",
    "        loss.backward()\n",
    "        optimizer.step()\n",
    "        total_loss += loss.item()\n",
    "    print(f\"Epoch {epoch+1}, Loss: {total_loss / len(dataloader):.4f}\")"
   ]
  },
  {
   "cell_type": "code",
   "execution_count": 14,
   "metadata": {},
   "outputs": [],
   "source": [
    "# 모델 저장 경로 설정\n",
    "model_save_path = 'bert4rec_model_ko.pth'\n"
   ]
  },
  {
   "cell_type": "code",
   "execution_count": 15,
   "metadata": {},
   "outputs": [
    {
     "name": "stdout",
     "output_type": "stream",
     "text": [
      "Model saved to bert4rec_model_ko.pth\n"
     ]
    }
   ],
   "source": [
    "# 모델의 가중치 저장\n",
    "torch.save(model.state_dict(), model_save_path)\n",
    "print(\"Model saved to\", model_save_path)"
   ]
  }
 ],
 "metadata": {
  "accelerator": "GPU",
  "colab": {
   "gpuType": "T4",
   "provenance": []
  },
  "kernelspec": {
   "display_name": "torch2.3.0-py3.11-cuda12.1",
   "language": "python",
   "name": "python3"
  },
  "language_info": {
   "codemirror_mode": {
    "name": "ipython",
    "version": 3
   },
   "file_extension": ".py",
   "mimetype": "text/x-python",
   "name": "python",
   "nbconvert_exporter": "python",
   "pygments_lexer": "ipython3",
   "version": "3.11.0rc1"
  }
 },
 "nbformat": 4,
 "nbformat_minor": 0
}
